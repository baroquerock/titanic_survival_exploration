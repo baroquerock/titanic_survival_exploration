{
 "cells": [
  {
   "cell_type": "markdown",
   "metadata": {},
   "source": [
    "# Machine Learning Engineer Nanodegree\n",
    "## Supervised Learning\n",
    "## Project: Finding Donors for *CharityML*"
   ]
  },
  {
   "cell_type": "markdown",
   "metadata": {},
   "source": [
    "Welcome to the second project of the Machine Learning Engineer Nanodegree! In this notebook, some template code has already been provided for you, and it will be your job to implement the additional functionality necessary to successfully complete this project. Sections that begin with **'Implementation'** in the header indicate that the following block of code will require additional functionality which you must provide. Instructions will be provided for each section and the specifics of the implementation are marked in the code block with a `'TODO'` statement. Please be sure to read the instructions carefully!\n",
    "\n",
    "In addition to implementing code, there will be questions that you must answer which relate to the project and your implementation. Each section where you will answer a question is preceded by a **'Question X'** header. Carefully read each question and provide thorough answers in the following text boxes that begin with **'Answer:'**. Your project submission will be evaluated based on your answers to each of the questions and the implementation you provide.  \n",
    "\n",
    ">**Note:** Please specify WHICH VERSION OF PYTHON you are using when submitting this notebook. Code and Markdown cells can be executed using the **Shift + Enter** keyboard shortcut. In addition, Markdown cells can be edited by typically double-clicking the cell to enter edit mode."
   ]
  },
  {
   "cell_type": "markdown",
   "metadata": {},
   "source": [
    "## Getting Started\n",
    "\n",
    "In this project, you will employ several supervised algorithms of your choice to accurately model individuals' income using data collected from the 1994 U.S. Census. You will then choose the best candidate algorithm from preliminary results and further optimize this algorithm to best model the data. Your goal with this implementation is to construct a model that accurately predicts whether an individual makes more than $50,000. This sort of task can arise in a non-profit setting, where organizations survive on donations.  Understanding an individual's income can help a non-profit better understand how large of a donation to request, or whether or not they should reach out to begin with.  While it can be difficult to determine an individual's general income bracket directly from public sources, we can (as we will see) infer this value from other publically available features. \n",
    "\n",
    "The dataset for this project originates from the [UCI Machine Learning Repository](https://archive.ics.uci.edu/ml/datasets/Census+Income). The datset was donated by Ron Kohavi and Barry Becker, after being published in the article _\"Scaling Up the Accuracy of Naive-Bayes Classifiers: A Decision-Tree Hybrid\"_. You can find the article by Ron Kohavi [online](https://www.aaai.org/Papers/KDD/1996/KDD96-033.pdf). The data we investigate here consists of small changes to the original dataset, such as removing the `'fnlwgt'` feature and records with missing or ill-formatted entries."
   ]
  },
  {
   "cell_type": "markdown",
   "metadata": {},
   "source": [
    "----\n",
    "## Exploring the Data\n",
    "Run the code cell below to load necessary Python libraries and load the census data. Note that the last column from this dataset, `'income'`, will be our target label (whether an individual makes more than, or at most, $50,000 annually). All other columns are features about each individual in the census database."
   ]
  },
  {
   "cell_type": "code",
   "execution_count": 2,
   "metadata": {
    "collapsed": false
   },
   "outputs": [
    {
     "data": {
      "text/html": [
       "<div>\n",
       "<style scoped>\n",
       "    .dataframe tbody tr th:only-of-type {\n",
       "        vertical-align: middle;\n",
       "    }\n",
       "\n",
       "    .dataframe tbody tr th {\n",
       "        vertical-align: top;\n",
       "    }\n",
       "\n",
       "    .dataframe thead th {\n",
       "        text-align: right;\n",
       "    }\n",
       "</style>\n",
       "<table border=\"1\" class=\"dataframe\">\n",
       "  <thead>\n",
       "    <tr style=\"text-align: right;\">\n",
       "      <th></th>\n",
       "      <th>age</th>\n",
       "      <th>workclass</th>\n",
       "      <th>education_level</th>\n",
       "      <th>education-num</th>\n",
       "      <th>marital-status</th>\n",
       "      <th>occupation</th>\n",
       "      <th>relationship</th>\n",
       "      <th>race</th>\n",
       "      <th>sex</th>\n",
       "      <th>capital-gain</th>\n",
       "      <th>capital-loss</th>\n",
       "      <th>hours-per-week</th>\n",
       "      <th>native-country</th>\n",
       "      <th>income</th>\n",
       "    </tr>\n",
       "  </thead>\n",
       "  <tbody>\n",
       "    <tr>\n",
       "      <th>0</th>\n",
       "      <td>39</td>\n",
       "      <td>State-gov</td>\n",
       "      <td>Bachelors</td>\n",
       "      <td>13.0</td>\n",
       "      <td>Never-married</td>\n",
       "      <td>Adm-clerical</td>\n",
       "      <td>Not-in-family</td>\n",
       "      <td>White</td>\n",
       "      <td>Male</td>\n",
       "      <td>2174.0</td>\n",
       "      <td>0.0</td>\n",
       "      <td>40.0</td>\n",
       "      <td>United-States</td>\n",
       "      <td>&lt;=50K</td>\n",
       "    </tr>\n",
       "  </tbody>\n",
       "</table>\n",
       "</div>"
      ],
      "text/plain": [
       "   age   workclass education_level  education-num  marital-status  \\\n",
       "0   39   State-gov       Bachelors           13.0   Never-married   \n",
       "\n",
       "      occupation    relationship    race    sex  capital-gain  capital-loss  \\\n",
       "0   Adm-clerical   Not-in-family   White   Male        2174.0           0.0   \n",
       "\n",
       "   hours-per-week  native-country income  \n",
       "0            40.0   United-States  <=50K  "
      ]
     },
     "metadata": {},
     "output_type": "display_data"
    }
   ],
   "source": [
    "# Import libraries necessary for this project\n",
    "import numpy as np\n",
    "import pandas as pd\n",
    "from time import time\n",
    "from IPython.display import display # Allows the use of display() for DataFrames\n",
    "\n",
    "# Import supplementary visualization code visuals.py\n",
    "import visuals as vs\n",
    "\n",
    "# Pretty display for notebooks\n",
    "%matplotlib inline\n",
    "\n",
    "# Load the Census dataset\n",
    "data = pd.read_csv(\"census.csv\")\n",
    "\n",
    "# Success - Display the first record\n",
    "display(data.head(n=1))"
   ]
  },
  {
   "cell_type": "markdown",
   "metadata": {},
   "source": [
    "### Implementation: Data Exploration\n",
    "A cursory investigation of the dataset will determine how many individuals fit into either group, and will tell us about the percentage of these individuals making more than \\$50,000. In the code cell below, you will need to compute the following:\n",
    "- The total number of records, `'n_records'`\n",
    "- The number of individuals making more than \\$50,000 annually, `'n_greater_50k'`.\n",
    "- The number of individuals making at most \\$50,000 annually, `'n_at_most_50k'`.\n",
    "- The percentage of individuals making more than \\$50,000 annually, `'greater_percent'`.\n",
    "\n",
    "** HINT: ** You may need to look at the table above to understand how the `'income'` entries are formatted. "
   ]
  },
  {
   "cell_type": "code",
   "execution_count": 17,
   "metadata": {
    "collapsed": false
   },
   "outputs": [
    {
     "name": "stdout",
     "output_type": "stream",
     "text": [
      "Total number of records: 45222\n",
      "Individuals making more than $50,000: 11208\n",
      "Individuals making at most $50,000: 34014\n",
      "Percentage of individuals making more than $50,000: 24.78%\n"
     ]
    }
   ],
   "source": [
    "# TODO: Total number of records\n",
    "n_records = len(data)\n",
    "\n",
    "# TODO: Number of records where individual's income is more than $50,000\n",
    "n_greater_50k = len(data[(data['income']=='>50K')])\n",
    "\n",
    "# TODO: Number of records where individual's income is at most $50,000\n",
    "n_at_most_50k = len(data[(data['income']=='<=50K')])\n",
    "\n",
    "# TODO: Percentage of individuals whose income is more than $50,000\n",
    "greater_percent = n_greater_50k / float(n_records) * 100\n",
    "\n",
    "# Print the results\n",
    "print \"Total number of records: {}\".format(n_records)\n",
    "print \"Individuals making more than $50,000: {}\".format(n_greater_50k)\n",
    "print \"Individuals making at most $50,000: {}\".format(n_at_most_50k)\n",
    "print \"Percentage of individuals making more than $50,000: {:.2f}%\".format(greater_percent)"
   ]
  },
  {
   "cell_type": "markdown",
   "metadata": {},
   "source": [
    "** Featureset Exploration **\n",
    "\n",
    "* **age**: continuous. \n",
    "* **workclass**: Private, Self-emp-not-inc, Self-emp-inc, Federal-gov, Local-gov, State-gov, Without-pay, Never-worked. \n",
    "* **education**: Bachelors, Some-college, 11th, HS-grad, Prof-school, Assoc-acdm, Assoc-voc, 9th, 7th-8th, 12th, Masters, 1st-4th, 10th, Doctorate, 5th-6th, Preschool. \n",
    "* **education-num**: continuous. \n",
    "* **marital-status**: Married-civ-spouse, Divorced, Never-married, Separated, Widowed, Married-spouse-absent, Married-AF-spouse. \n",
    "* **occupation**: Tech-support, Craft-repair, Other-service, Sales, Exec-managerial, Prof-specialty, Handlers-cleaners, Machine-op-inspct, Adm-clerical, Farming-fishing, Transport-moving, Priv-house-serv, Protective-serv, Armed-Forces. \n",
    "* **relationship**: Wife, Own-child, Husband, Not-in-family, Other-relative, Unmarried. \n",
    "* **race**: Black, White, Asian-Pac-Islander, Amer-Indian-Eskimo, Other. \n",
    "* **sex**: Female, Male. \n",
    "* **capital-gain**: continuous. \n",
    "* **capital-loss**: continuous. \n",
    "* **hours-per-week**: continuous. \n",
    "* **native-country**: United-States, Cambodia, England, Puerto-Rico, Canada, Germany, Outlying-US(Guam-USVI-etc), India, Japan, Greece, South, China, Cuba, Iran, Honduras, Philippines, Italy, Poland, Jamaica, Vietnam, Mexico, Portugal, Ireland, France, Dominican-Republic, Laos, Ecuador, Taiwan, Haiti, Columbia, Hungary, Guatemala, Nicaragua, Scotland, Thailand, Yugoslavia, El-Salvador, Trinadad&Tobago, Peru, Hong, Holand-Netherlands."
   ]
  },
  {
   "cell_type": "markdown",
   "metadata": {},
   "source": [
    "----\n",
    "## Preparing the Data\n",
    "Before data can be used as input for machine learning algorithms, it often must be cleaned, formatted, and restructured — this is typically known as **preprocessing**. Fortunately, for this dataset, there are no invalid or missing entries we must deal with, however, there are some qualities about certain features that must be adjusted. This preprocessing can help tremendously with the outcome and predictive power of nearly all learning algorithms."
   ]
  },
  {
   "cell_type": "markdown",
   "metadata": {},
   "source": [
    "### Transforming Skewed Continuous Features\n",
    "A dataset may sometimes contain at least one feature whose values tend to lie near a single number, but will also have a non-trivial number of vastly larger or smaller values than that single number.  Algorithms can be sensitive to such distributions of values and can underperform if the range is not properly normalized. With the census dataset two features fit this description: '`capital-gain'` and `'capital-loss'`. \n",
    "\n",
    "Run the code cell below to plot a histogram of these two features. Note the range of the values present and how they are distributed."
   ]
  },
  {
   "cell_type": "code",
   "execution_count": 18,
   "metadata": {
    "collapsed": false
   },
   "outputs": [
    {
     "data": {
      "image/png": "[encoded data removed]",
      "text/plain": [
       "<matplotlib.figure.Figure at 0x114dc2ad0>"
      ]
     },
     "metadata": {},
     "output_type": "display_data"
    }
   ],
   "source": [
    "# Split the data into features and target label\n",
    "income_raw = data['income']\n",
    "features_raw = data.drop('income', axis = 1)\n",
    "\n",
    "# Visualize skewed continuous features of original data\n",
    "vs.distribution(data)"
   ]
  },
  {
   "cell_type": "markdown",
   "metadata": {},
   "source": [
    "For highly-skewed feature distributions such as `'capital-gain'` and `'capital-loss'`, it is common practice to apply a <a href=\"https://en.wikipedia.org/wiki/Data_transformation_(statistics)\">logarithmic transformation</a> on the data so that the very large and very small values do not negatively affect the performance of a learning algorithm. Using a logarithmic transformation significantly reduces the range of values caused by outliers. Care must be taken when applying this transformation however: The logarithm of `0` is undefined, so we must translate the values by a small amount above `0` to apply the the logarithm successfully.\n",
    "\n",
    "Run the code cell below to perform a transformation on the data and visualize the results. Again, note the range of values and how they are distributed. "
   ]
  },
  {
   "cell_type": "code",
   "execution_count": 19,
   "metadata": {
    "collapsed": false
   },
   "outputs": [
    {
     "data": {
      "image/png": "[encoded data removed]",
      "text/plain": [
       "<matplotlib.figure.Figure at 0x120f8de10>"
      ]
     },
     "metadata": {},
     "output_type": "display_data"
    }
   ],
   "source": [
    "# Log-transform the skewed features\n",
    "skewed = ['capital-gain', 'capital-loss']\n",
    "features_log_transformed = pd.DataFrame(data = features_raw)\n",
    "features_log_transformed[skewed] = features_raw[skewed].apply(lambda x: np.log(x + 1))\n",
    "\n",
    "# Visualize the new log distributions\n",
    "vs.distribution(features_log_transformed, transformed = True)"
   ]
  },
  {
   "cell_type": "markdown",
   "metadata": {},
   "source": [
    "### Normalizing Numerical Features\n",
    "In addition to performing transformations on features that are highly skewed, it is often good practice to perform some type of scaling on numerical features. Applying a scaling to the data does not change the shape of each feature's distribution (such as `'capital-gain'` or `'capital-loss'` above); however, normalization ensures that each feature is treated equally when applying supervised learners. Note that once scaling is applied, observing the data in its raw form will no longer have the same original meaning, as exampled below.\n",
    "\n",
    "Run the code cell below to normalize each numerical feature. We will use [`sklearn.preprocessing.MinMaxScaler`](http://scikit-learn.org/stable/modules/generated/sklearn.preprocessing.MinMaxScaler.html) for this."
   ]
  },
  {
   "cell_type": "code",
   "execution_count": 20,
   "metadata": {
    "collapsed": false
   },
   "outputs": [
    {
     "data": {
      "text/html": [
       "<div>\n",
       "<style scoped>\n",
       "    .dataframe tbody tr th:only-of-type {\n",
       "        vertical-align: middle;\n",
       "    }\n",
       "\n",
       "    .dataframe tbody tr th {\n",
       "        vertical-align: top;\n",
       "    }\n",
       "\n",
       "    .dataframe thead th {\n",
       "        text-align: right;\n",
       "    }\n",
       "</style>\n",
       "<table border=\"1\" class=\"dataframe\">\n",
       "  <thead>\n",
       "    <tr style=\"text-align: right;\">\n",
       "      <th></th>\n",
       "      <th>age</th>\n",
       "      <th>workclass</th>\n",
       "      <th>education_level</th>\n",
       "      <th>education-num</th>\n",
       "      <th>marital-status</th>\n",
       "      <th>occupation</th>\n",
       "      <th>relationship</th>\n",
       "      <th>race</th>\n",
       "      <th>sex</th>\n",
       "      <th>capital-gain</th>\n",
       "      <th>capital-loss</th>\n",
       "      <th>hours-per-week</th>\n",
       "      <th>native-country</th>\n",
       "    </tr>\n",
       "  </thead>\n",
       "  <tbody>\n",
       "    <tr>\n",
       "      <th>0</th>\n",
       "      <td>0.301370</td>\n",
       "      <td>State-gov</td>\n",
       "      <td>Bachelors</td>\n",
       "      <td>0.800000</td>\n",
       "      <td>Never-married</td>\n",
       "      <td>Adm-clerical</td>\n",
       "      <td>Not-in-family</td>\n",
       "      <td>White</td>\n",
       "      <td>Male</td>\n",
       "      <td>0.667492</td>\n",
       "      <td>0.0</td>\n",
       "      <td>0.397959</td>\n",
       "      <td>United-States</td>\n",
       "    </tr>\n",
       "    <tr>\n",
       "      <th>1</th>\n",
       "      <td>0.452055</td>\n",
       "      <td>Self-emp-not-inc</td>\n",
       "      <td>Bachelors</td>\n",
       "      <td>0.800000</td>\n",
       "      <td>Married-civ-spouse</td>\n",
       "      <td>Exec-managerial</td>\n",
       "      <td>Husband</td>\n",
       "      <td>White</td>\n",
       "      <td>Male</td>\n",
       "      <td>0.000000</td>\n",
       "      <td>0.0</td>\n",
       "      <td>0.122449</td>\n",
       "      <td>United-States</td>\n",
       "    </tr>\n",
       "    <tr>\n",
       "      <th>2</th>\n",
       "      <td>0.287671</td>\n",
       "      <td>Private</td>\n",
       "      <td>HS-grad</td>\n",
       "      <td>0.533333</td>\n",
       "      <td>Divorced</td>\n",
       "      <td>Handlers-cleaners</td>\n",
       "      <td>Not-in-family</td>\n",
       "      <td>White</td>\n",
       "      <td>Male</td>\n",
       "      <td>0.000000</td>\n",
       "      <td>0.0</td>\n",
       "      <td>0.397959</td>\n",
       "      <td>United-States</td>\n",
       "    </tr>\n",
       "    <tr>\n",
       "      <th>3</th>\n",
       "      <td>0.493151</td>\n",
       "      <td>Private</td>\n",
       "      <td>11th</td>\n",
       "      <td>0.400000</td>\n",
       "      <td>Married-civ-spouse</td>\n",
       "      <td>Handlers-cleaners</td>\n",
       "      <td>Husband</td>\n",
       "      <td>Black</td>\n",
       "      <td>Male</td>\n",
       "      <td>0.000000</td>\n",
       "      <td>0.0</td>\n",
       "      <td>0.397959</td>\n",
       "      <td>United-States</td>\n",
       "    </tr>\n",
       "    <tr>\n",
       "      <th>4</th>\n",
       "      <td>0.150685</td>\n",
       "      <td>Private</td>\n",
       "      <td>Bachelors</td>\n",
       "      <td>0.800000</td>\n",
       "      <td>Married-civ-spouse</td>\n",
       "      <td>Prof-specialty</td>\n",
       "      <td>Wife</td>\n",
       "      <td>Black</td>\n",
       "      <td>Female</td>\n",
       "      <td>0.000000</td>\n",
       "      <td>0.0</td>\n",
       "      <td>0.397959</td>\n",
       "      <td>Cuba</td>\n",
       "    </tr>\n",
       "  </tbody>\n",
       "</table>\n",
       "</div>"
      ],
      "text/plain": [
       "        age          workclass education_level  education-num  \\\n",
       "0  0.301370          State-gov       Bachelors       0.800000   \n",
       "1  0.452055   Self-emp-not-inc       Bachelors       0.800000   \n",
       "2  0.287671            Private         HS-grad       0.533333   \n",
       "3  0.493151            Private            11th       0.400000   \n",
       "4  0.150685            Private       Bachelors       0.800000   \n",
       "\n",
       "        marital-status          occupation    relationship    race      sex  \\\n",
       "0        Never-married        Adm-clerical   Not-in-family   White     Male   \n",
       "1   Married-civ-spouse     Exec-managerial         Husband   White     Male   \n",
       "2             Divorced   Handlers-cleaners   Not-in-family   White     Male   \n",
       "3   Married-civ-spouse   Handlers-cleaners         Husband   Black     Male   \n",
       "4   Married-civ-spouse      Prof-specialty            Wife   Black   Female   \n",
       "\n",
       "   capital-gain  capital-loss  hours-per-week  native-country  \n",
       "0      0.667492           0.0        0.397959   United-States  \n",
       "1      0.000000           0.0        0.122449   United-States  \n",
       "2      0.000000           0.0        0.397959   United-States  \n",
       "3      0.000000           0.0        0.397959   United-States  \n",
       "4      0.000000           0.0        0.397959            Cuba  "
      ]
     },
     "metadata": {},
     "output_type": "display_data"
    }
   ],
   "source": [
    "# Import sklearn.preprocessing.StandardScaler\n",
    "from sklearn.preprocessing import MinMaxScaler\n",
    "\n",
    "# Initialize a scaler, then apply it to the features\n",
    "scaler = MinMaxScaler() # default=(0, 1)\n",
    "numerical = ['age', 'education-num', 'capital-gain', 'capital-loss', 'hours-per-week']\n",
    "\n",
    "features_log_minmax_transform = pd.DataFrame(data = features_log_transformed)\n",
    "features_log_minmax_transform[numerical] = scaler.fit_transform(features_log_transformed[numerical])\n",
    "\n",
    "# Show an example of a record with scaling applied\n",
    "display(features_log_minmax_transform.head(n = 5))"
   ]
  },
  {
   "cell_type": "markdown",
   "metadata": {},
   "source": [
    "### Implementation: Data Preprocessing\n",
    "\n",
    "From the table in **Exploring the Data** above, we can see there are several features for each record that are non-numeric. Typically, learning algorithms expect input to be numeric, which requires that non-numeric features (called *categorical variables*) be converted. One popular way to convert categorical variables is by using the **one-hot encoding** scheme. One-hot encoding creates a _\"dummy\"_ variable for each possible category of each non-numeric feature. For example, assume `someFeature` has three possible entries: `A`, `B`, or `C`. We then encode this feature into `someFeature_A`, `someFeature_B` and `someFeature_C`.\n",
    "\n",
    "|   | someFeature |                    | someFeature_A | someFeature_B | someFeature_C |\n",
    "| :-: | :-: |                            | :-: | :-: | :-: |\n",
    "| 0 |  B  |  | 0 | 1 | 0 |\n",
    "| 1 |  C  | ----> one-hot encode ----> | 0 | 0 | 1 |\n",
    "| 2 |  A  |  | 1 | 0 | 0 |\n",
    "\n",
    "Additionally, as with the non-numeric features, we need to convert the non-numeric target label, `'income'` to numerical values for the learning algorithm to work. Since there are only two possible categories for this label (\"<=50K\" and \">50K\"), we can avoid using one-hot encoding and simply encode these two categories as `0` and `1`, respectively. In code cell below, you will need to implement the following:\n",
    " - Use [`pandas.get_dummies()`](http://pandas.pydata.org/pandas-docs/stable/generated/pandas.get_dummies.html?highlight=get_dummies#pandas.get_dummies) to perform one-hot encoding on the `'features_raw'` data.\n",
    " - Convert the target label `'income_raw'` to numerical entries.\n",
    "   - Set records with \"<=50K\" to `0` and records with \">50K\" to `1`."
   ]
  },
  {
   "cell_type": "code",
   "execution_count": 21,
   "metadata": {
    "collapsed": false,
    "scrolled": true
   },
   "outputs": [
    {
     "name": "stdout",
     "output_type": "stream",
     "text": [
      "103 total features after one-hot encoding.\n"
     ]
    }
   ],
   "source": [
    "# TODO: One-hot encode the 'features_log_minmax_transform' data using pandas.get_dummies()\n",
    "features_final = pd.get_dummies(features_log_minmax_transform) \n",
    "\n",
    "# TODO: Encode the 'income_raw' data to numerical values\n",
    "income = income_raw.apply(lambda x: 0 if x == \"<=50K\" else 1)\n",
    "\n",
    "# Print the number of features after one-hot encoding\n",
    "encoded = list(features_final.columns)\n",
    "print \"{} total features after one-hot encoding.\".format(len(encoded))\n",
    "\n",
    "# Uncomment the following line to see the encoded feature names\n",
    "#print encoded\n"
   ]
  },
  {
   "cell_type": "markdown",
   "metadata": {},
   "source": [
    "### Shuffle and Split Data\n",
    "Now all _categorical variables_ have been converted into numerical features, and all numerical features have been normalized. As always, we will now split the data (both features and their labels) into training and test sets. 80% of the data will be used for training and 20% for testing.\n",
    "\n",
    "Run the code cell below to perform this split."
   ]
  },
  {
   "cell_type": "code",
   "execution_count": 22,
   "metadata": {
    "collapsed": false
   },
   "outputs": [
    {
     "name": "stdout",
     "output_type": "stream",
     "text": [
      "Training set has 36177 samples.\n",
      "Testing set has 9045 samples.\n"
     ]
    }
   ],
   "source": [
    "# Import train_test_split\n",
    "from sklearn.cross_validation import train_test_split\n",
    "\n",
    "# Split the 'features' and 'income' data into training and testing sets\n",
    "X_train, X_test, y_train, y_test = train_test_split(features_final, \n",
    "                                                    income, \n",
    "                                                    test_size = 0.2, \n",
    "                                                    random_state = 0)\n",
    "\n",
    "# Show the results of the split\n",
    "print \"Training set has {} samples.\".format(X_train.shape[0])\n",
    "print \"Testing set has {} samples.\".format(X_test.shape[0])"
   ]
  },
  {
   "cell_type": "markdown",
   "metadata": {},
   "source": [
    "----\n",
    "## Evaluating Model Performance\n",
    "In this section, we will investigate four different algorithms, and determine which is best at modeling the data. Three of these algorithms will be supervised learners of your choice, and the fourth algorithm is known as a *naive predictor*."
   ]
  },
  {
   "cell_type": "markdown",
   "metadata": {},
   "source": [
    "### Metrics and the Naive Predictor\n",
    "*CharityML*, equipped with their research, knows individuals that make more than \\$50,000 are most likely to donate to their charity. Because of this, *CharityML* is particularly interested in predicting who makes more than \\$50,000 accurately. It would seem that using **accuracy** as a metric for evaluating a particular model's performace would be appropriate. Additionally, identifying someone that *does not* make more than \\$50,000 as someone who does would be detrimental to *CharityML*, since they are looking to find individuals willing to donate. Therefore, a model's ability to precisely predict those that make more than \\$50,000 is *more important* than the model's ability to **recall** those individuals. We can use **F-beta score** as a metric that considers both precision and recall:\n",
    "\n",
    "$$ F_{\\beta} = (1 + \\beta^2) \\cdot \\frac{precision \\cdot recall}{\\left( \\beta^2 \\cdot precision \\right) + recall} $$\n",
    "\n",
    "In particular, when $\\beta = 0.5$, more emphasis is placed on precision. This is called the **F$_{0.5}$ score** (or F-score for simplicity).\n",
    "\n",
    "Looking at the distribution of classes (those who make at most \\$50,000, and those who make more), it's clear most individuals do not make more than \\$50,000. This can greatly affect **accuracy**, since we could simply say *\"this person does not make more than \\$50,000\"* and generally be right, without ever looking at the data! Making such a statement would be called **naive**, since we have not considered any information to substantiate the claim. It is always important to consider the *naive prediction* for your data, to help establish a benchmark for whether a model is performing well. That been said, using that prediction would be pointless: If we predicted all people made less than \\$50,000, *CharityML* would identify no one as donors. \n",
    "\n",
    "\n",
    "#### Note: Recap of accuracy, precision, recall\n",
    "\n",
    "** Accuracy ** measures how often the classifier makes the correct prediction. It’s the ratio of the number of correct predictions to the total number of predictions (the number of test data points).\n",
    "\n",
    "** Precision ** tells us what proportion of messages we classified as spam, actually were spam.\n",
    "It is a ratio of true positives(words classified as spam, and which are actually spam) to all positives(all words classified as spam, irrespective of whether that was the correct classificatio), in other words it is the ratio of\n",
    "\n",
    "`[True Positives/(True Positives + False Positives)]`\n",
    "\n",
    "** Recall(sensitivity)** tells us what proportion of messages that actually were spam were classified by us as spam.\n",
    "It is a ratio of true positives(words classified as spam, and which are actually spam) to all the words that were actually spam, in other words it is the ratio of\n",
    "\n",
    "`[True Positives/(True Positives + False Negatives)]`\n",
    "\n",
    "For classification problems that are skewed in their classification distributions like in our case, for example if we had a 100 text messages and only 2 were spam and the rest 98 weren't, accuracy by itself is not a very good metric. We could classify 90 messages as not spam(including the 2 that were spam but we classify them as not spam, hence they would be false negatives) and 10 as spam(all 10 false positives) and still get a reasonably good accuracy score. For such cases, precision and recall come in very handy. These two metrics can be combined to get the F1 score, which is weighted average(harmonic mean) of the precision and recall scores. This score can range from 0 to 1, with 1 being the best possible F1 score(we take the harmonic mean as we are dealing with ratios)."
   ]
  },
  {
   "cell_type": "markdown",
   "metadata": {},
   "source": [
    "### Question 1 - Naive Predictor Performace\n",
    "* If we chose a model that always predicted an individual made more than $50,000, what would  that model's accuracy and F-score be on this dataset? You must use the code cell below and assign your results to `'accuracy'` and `'fscore'` to be used later.\n",
    "\n",
    "** HINT: ** \n",
    "\n",
    "* When we have a model that always predicts '1' (i.e. the individual makes more than 50k) then our model will have no True Negatives(TN) or False Negatives(FN) as we are not making any negative('0' value) predictions. Therefore our Accuracy in this case becomes the same as our Precision(True Positives/(True Positives + False Positives)) as every prediction that we have made with value '1' that should have '0' becomes a False Positive; therefore our denominator in this case is the total number of records we have in total. \n",
    "* Our Recall score(True Positives/(True Positives + False Negatives)) in this setting becomes 1 as we have no False Negatives."
   ]
  },
  {
   "cell_type": "code",
   "execution_count": 23,
   "metadata": {
    "collapsed": false
   },
   "outputs": [
    {
     "name": "stdout",
     "output_type": "stream",
     "text": [
      "Naive Predictor: [Accuracy score: 0.2478, F-score: 0.2917]\n"
     ]
    }
   ],
   "source": [
    "\n",
    "TP = np.sum(income) # Counting the ones as this is the naive case. Note that 'income' is the 'income_raw' data \n",
    "# encoded to numerical values done in the data preprocessing step.\n",
    "FP = income.count() - TP # Specific to the naive case\n",
    "\n",
    "TN = 0 # No predicted negatives in the naive case\n",
    "FN = 0 # No predicted negatives in the naive case\n",
    "\n",
    "# TODO: Calculate accuracy, precision and recall\n",
    "accuracy = TP / float(income.count())\n",
    "recall = TP / float(TP + FN)\n",
    "precision = TP / float(TP + FP)\n",
    "\n",
    "# TODO: Calculate F-score using the formula above for beta = 0.5 and correct values for precision and recall.\n",
    "# HINT: The formula above can be written as (1 + beta**2) * (precision * recall) / ((beta**2 * precision) + recall)\n",
    "beta = 0.5\n",
    "fscore = (1 + beta**2) * (precision * recall) / ((beta**2 * precision) + recall)\n",
    "\n",
    "# Print the results \n",
    "print \"Naive Predictor: [Accuracy score: {:.4f}, F-score: {:.4f}]\".format(accuracy, fscore)"
   ]
  },
  {
   "cell_type": "markdown",
   "metadata": {},
   "source": [
    "###  Supervised Learning Models\n",
    "**The following are some of the supervised learning models that are currently available in** [`scikit-learn`](http://scikit-learn.org/stable/supervised_learning.html) **that you may choose from:**\n",
    "- Gaussian Naive Bayes (GaussianNB)\n",
    "- Decision Trees\n",
    "- Ensemble Methods (Bagging, AdaBoost, Random Forest, Gradient Boosting)\n",
    "- K-Nearest Neighbors (KNeighbors)\n",
    "- Stochastic Gradient Descent Classifier (SGDC)\n",
    "- Support Vector Machines (SVM)\n",
    "- Logistic Regression"
   ]
  },
  {
   "cell_type": "markdown",
   "metadata": {},
   "source": [
    "### Question 2 - Model Application\n",
    "List three of the supervised learning models above that are appropriate for this problem that you will test on the census data. For each model chosen\n",
    "\n",
    "- Describe one real-world application in industry where the model can be applied. \n",
    "- What are the strengths of the model; when does it perform well?\n",
    "- What are the weaknesses of the model; when does it perform poorly?\n",
    "- What makes this model a good candidate for the problem, given what you know about the data?\n",
    "\n",
    "** HINT: **\n",
    "\n",
    "Structure your answer in the same format as above, with 4 parts for each of the three models you pick. Please include references with your answer."
   ]
  },
  {
   "cell_type": "code",
   "execution_count": 3,
   "metadata": {
    "collapsed": false
   },
   "outputs": [
    {
     "data": {
      "text/plain": [
       "45222"
      ]
     },
     "execution_count": 3,
     "metadata": {},
     "output_type": "execute_result"
    }
   ],
   "source": [
    "len(data)"
   ]
  },
  {
   "cell_type": "markdown",
   "metadata": {},
   "source": [
    "**Answer: **\n",
    "\n",
    "\n",
    "\n",
    "** Gradient Boosting : **\n",
    "\n",
    "* We can successfully perform text classification with GB. For example, in recent Kaggle [competition](https://www.kaggle.com/c/jigsaw-toxic-comment-classification-challenge) there was a problem of distinguishing between toxic and nontoxic comments (toxicity is defined as a reason for somebody to leave a discussion). I believe that GB will show a good result in this task.\n",
    "* GB is quite robust in a wide variety of tasks. It is much harder to overfit than, for example, Random Forest and other ML algorithms. It is quite flexible (we can introduce domain knowledge by choosing a loss function and a learner's type). Also, if we are using decision trees as weak learners, there are some advantages whech are inherent for decision trees such as interpretability and immunity to outliers and non-normalized features. \n",
    "* Weaknesses of the model are mostly concentrated around computational characteristics. The algorithm is inherently sequential, therefore, it is quite hard to take advantage of parallel computing and speep up the processing (although, XGBoost partially solves this). GB can also use a lot of memory (comparing, for example, to linear regression) as it needs to keep in memory all weak learners.  Also, GB can also overfit when weak learners are too complex and/or too many. However, in practice GB overfitting is not usually a problem. \n",
    "*  GB usually performs well on binary classification tasks. Also the data we have can be naturally represented as a decision tree and this representation is used in Gradient Boosting Clasifier in sklearn. \n",
    "\n",
    "** SVM: **\n",
    "* The algorithm is quite old. It was introduced in 1960s. However, it still shows a good performance on a wide variety of tasks. [This paper](http://jmlr.csail.mit.edu/papers/volume15/delgado14a/delgado14a.pdf) shows that the SVM with Gaussian kernel is among top performers on [UCI datasets](https://archive.ics.uci.edu/ml/datasets.html) (along with Random Forest) out of 179 different algorithms. Suppose a bank wants to predict whether a client will return a loan on time, we can classify the bank's clients using SVC.\n",
    "* SVM is robust to overfitting as it tries to maximize the margin between classes., it can also build non-linear decision boundaries due to the notion of kernel (which represent our domain knowledge). \n",
    "* The advantage of having a kernel can turn into a drawback as it is easy to choose a kernel which will be a bad fit to our data. The data should be studied well enough to provide a reason to choose a specific kernel (or we can try all of them). The algorithm is memory intensive and quite slow, therefore, it is hard to process large datasets. \n",
    "* The data we have is not particularly big both in terms of feature space and number of entries so time and memory will not be an issue here. Given what we know about the algorithm (maximizing the margin, possibility to use non-linear kernels), SVM should do well here. \n",
    "\n",
    "** SGDC: **\n",
    "* SGDC (Stohastic Gradient Descent) can probably be considered a heart of Machine Learning, a lot of modern ML techniques (like neural networks) use SGDC internally, so it would be unfair to compare SGDC to modern algorithms as various ensemble methods or ANNs. When it comes to the real world industrial applications SGDC will not be able to compete with more advanced ML models. However, when the task is relatively simple and we don't need a lot of complexity, SGDC can perform very well and can help us to avoid \"premature optimization\".  Suppose, a professor wants to predict the performance of his or her students at the final exam in order to detect potential problems earlier and help to solve the. For each student the professor has number of missed classes, some demographic info, some midterms scores etc. The feature space is quite small and the data per se does not seem to be very hard, so I we have a lot of reasons to believe that SGDC will perform well here.\n",
    "* SGDC is fast and relatively easy to implement, it can work with arbirtaty objective function.\n",
    "* SGDC can get stuck in local optimum (although, there are techniques to overcome this like restarts and momentum). The algorithm is also prone to overfitting (can be cured by regularization). \n",
    "* As was said earlier SGDC is a core of modern ML so I believe that SGDC would show decent results on the dataset (especially when we encoded and transformed it properly so that SGDC can operate on such dataset). I would also like to use SGDC as a smarter benchmark for our problem because if it turns out that the results are comparable to more advanced techniques there will be no need to use something else than SGDC. "
   ]
  },
  {
   "cell_type": "markdown",
   "metadata": {},
   "source": [
    "### Implementation - Creating a Training and Predicting Pipeline\n",
    "To properly evaluate the performance of each model you've chosen, it's important that you create a training and predicting pipeline that allows you to quickly and effectively train models using various sizes of training data and perform predictions on the testing data. Your implementation here will be used in the following section.\n",
    "In the code block below, you will need to implement the following:\n",
    " - Import `fbeta_score` and `accuracy_score` from [`sklearn.metrics`](http://scikit-learn.org/stable/modules/classes.html#sklearn-metrics-metrics).\n",
    " - Fit the learner to the sampled training data and record the training time.\n",
    " - Perform predictions on the test data `X_test`, and also on the first 300 training points `X_train[:300]`.\n",
    "   - Record the total prediction time.\n",
    " - Calculate the accuracy score for both the training subset and testing set.\n",
    " - Calculate the F-score for both the training subset and testing set.\n",
    "   - Make sure that you set the `beta` parameter!"
   ]
  },
  {
   "cell_type": "code",
   "execution_count": 24,
   "metadata": {
    "collapsed": false
   },
   "outputs": [],
   "source": [
    "# TODO: Import two metrics from sklearn - fbeta_score and accuracy_score\n",
    "from sklearn.metrics import fbeta_score\n",
    "from sklearn.metrics import accuracy_score\n",
    "\n",
    "def train_predict(learner, sample_size, X_train, y_train, X_test, y_test): \n",
    "    '''\n",
    "    inputs:\n",
    "       - learner: the learning algorithm to be trained and predicted on\n",
    "       - sample_size: the size of samples (number) to be drawn from training set\n",
    "       - X_train: features training set\n",
    "       - y_train: income training set\n",
    "       - X_test: features testing set\n",
    "       - y_test: income testing set\n",
    "    '''\n",
    "    \n",
    "    results = {}\n",
    "    \n",
    "    # TODO: Fit the learner to the training data using slicing with 'sample_size' using .fit(training_features[:], training_labels[:])\n",
    "    start = time() # Get start time\n",
    "    learner.fit(X_train[:sample_size], y_train[:sample_size])\n",
    "    end = time() # Get end time\n",
    "    \n",
    "    # TODO: Calculate the training time\n",
    "    results['train_time'] = end - start\n",
    "        \n",
    "    # TODO: Get the predictions on the test set(X_test),\n",
    "    #       then get predictions on the first 300 training samples(X_train) using .predict()\n",
    "    start = time() # Get start time\n",
    "    predictions_test = learner.predict(X_test)\n",
    "    predictions_train = learner.predict(X_train[:300])\n",
    "    end = time() # Get end time\n",
    "    \n",
    "    # TODO: Calculate the total prediction time\n",
    "    results['pred_time'] = end - start\n",
    "            \n",
    "    # TODO: Compute accuracy on the first 300 training samples which is y_train[:300]\n",
    "    results['acc_train'] = accuracy_score(y_train[:300], predictions_train)\n",
    "        \n",
    "    # TODO: Compute accuracy on test set using accuracy_score()\n",
    "    results['acc_test'] = accuracy_score(y_test, predictions_test)\n",
    "    \n",
    "    # TODO: Compute F-score on the the first 300 training samples using fbeta_score()\n",
    "    results['f_train'] = fbeta_score(y_train[:300], predictions_train, beta=0.5)\n",
    "        \n",
    "    # TODO: Compute F-score on the test set which is y_test\n",
    "    results['f_test'] = fbeta_score(y_test, predictions_test, beta=0.5)\n",
    "       \n",
    "    # Success\n",
    "    print \"{} trained on {} samples.\".format(learner.__class__.__name__, sample_size)\n",
    "        \n",
    "    # Return the results\n",
    "    return results"
   ]
  },
  {
   "cell_type": "markdown",
   "metadata": {},
   "source": [
    "### Implementation: Initial Model Evaluation\n",
    "In the code cell, you will need to implement the following:\n",
    "- Import the three supervised learning models you've discussed in the previous section.\n",
    "- Initialize the three models and store them in `'clf_A'`, `'clf_B'`, and `'clf_C'`.\n",
    "  - Use a `'random_state'` for each model you use, if provided.\n",
    "  - **Note:** Use the default settings for each model — you will tune one specific model in a later section.\n",
    "- Calculate the number of records equal to 1%, 10%, and 100% of the training data.\n",
    "  - Store those values in `'samples_1'`, `'samples_10'`, and `'samples_100'` respectively.\n",
    "\n",
    "**Note:** Depending on which algorithms you chose, the following implementation may take some time to run!"
   ]
  },
  {
   "cell_type": "code",
   "execution_count": 25,
   "metadata": {
    "collapsed": false
   },
   "outputs": [
    {
     "name": "stdout",
     "output_type": "stream",
     "text": [
      "GradientBoostingClassifier trained on 361 samples.\n",
      "GradientBoostingClassifier trained on 3617 samples.\n",
      "GradientBoostingClassifier trained on 36177 samples.\n",
      "SGDClassifier trained on 361 samples.\n",
      "SGDClassifier trained on 3617 samples.\n",
      "SGDClassifier trained on 36177 samples.\n",
      "SVC trained on 361 samples.\n",
      "SVC trained on 3617 samples.\n",
      "SVC trained on 36177 samples.\n"
     ]
    },
    {
     "data": {
      "image/png": "[encoded data removed]",
      "text/plain": [
       "<matplotlib.figure.Figure at 0x10f9b7990>"
      ]
     },
     "metadata": {},
     "output_type": "display_data"
    }
   ],
   "source": [
    "# TODO: Import the three supervised learning models from sklearn\n",
    "from sklearn.ensemble import GradientBoostingClassifier\n",
    "from sklearn.linear_model import SGDClassifier\n",
    "from sklearn import svm\n",
    "\n",
    "# TODO: Initialize the three models\n",
    "clf_A = GradientBoostingClassifier(random_state=29)\n",
    "clf_B = SGDClassifier(random_state=29)\n",
    "clf_C = svm.SVC(random_state=29)\n",
    "\n",
    "# TODO: Calculate the number of samples for 1%, 10%, and 100% of the training data\n",
    "# HINT: samples_100 is the entire training set i.e. len(y_train)\n",
    "# HINT: samples_10 is 10% of samples_100\n",
    "# HINT: samples_1 is 1% of samples_100\n",
    "samples_100 = len(y_train)\n",
    "samples_10 = samples_100 / 10\n",
    "samples_1 = samples_100 / 100\n",
    "\n",
    "# Collect results on the learners\n",
    "results = {}\n",
    "for clf in [clf_A, clf_B, clf_C]:\n",
    "    clf_name = clf.__class__.__name__\n",
    "    results[clf_name] = {}\n",
    "    for i, samples in enumerate([samples_1, samples_10, samples_100]):\n",
    "        results[clf_name][i] = \\\n",
    "        train_predict(clf, samples, X_train, y_train, X_test, y_test)\n",
    "\n",
    "# Run metrics visualization for the three supervised learning models chosen\n",
    "vs.evaluate(results, accuracy, fscore)"
   ]
  },
  {
   "cell_type": "markdown",
   "metadata": {},
   "source": [
    "----\n",
    "## Improving Results\n",
    "In this final section, you will choose from the three supervised learning models the *best* model to use on the student data. You will then perform a grid search optimization for the model over the entire training set (`X_train` and `y_train`) by tuning at least one parameter to improve upon the untuned model's F-score. "
   ]
  },
  {
   "cell_type": "markdown",
   "metadata": {},
   "source": [
    "### Question 3 - Choosing the Best Model\n",
    "\n",
    "* Based on the evaluation you performed earlier, in one to two paragraphs, explain to *CharityML* which of the three models you believe to be most appropriate for the task of identifying individuals that make more than \\$50,000. \n",
    "\n",
    "** HINT: ** \n",
    "Look at the graph at the bottom left from the cell above(the visualization created by `vs.evaluate(results, accuracy, fscore)`) and check the F score for the testing set when 100% of the training set is used. Which model has the highest score? Your answer should include discussion of the:\n",
    "* metrics - F score on the testing when 100% of the training data is used, \n",
    "* prediction/training time\n",
    "* the algorithm's suitability for the data."
   ]
  },
  {
   "cell_type": "markdown",
   "metadata": {},
   "source": [
    "**Answer: **\n",
    "\n",
    "Gradient Boosting classifier wins this round as it has the highest F1 score: 0.734 on the training set and 0.739 on the test set (overfitting is not detected). The training and predicting time of the model is also quite good, it is not as fast as SGDC but much more faster than SVC. This implementation of Gradient Boosting uses decision trees as weak learners which seem like a natural fit for our data and binary classification task that we are doing. \n",
    "\n"
   ]
  },
  {
   "cell_type": "markdown",
   "metadata": {},
   "source": [
    "### Question 4 - Describing the Model in Layman's Terms\n",
    "\n",
    "* In one to two paragraphs, explain to *CharityML*, in layman's terms, how the final model chosen is supposed to work. Be sure that you are describing the major qualities of the model, such as how the model is trained and how the model makes a prediction. Avoid using advanced mathematical jargon, such as describing equations.\n",
    "\n",
    "** HINT: **\n",
    "\n",
    "When explaining your model, if using external resources please include all citations."
   ]
  },
  {
   "cell_type": "markdown",
   "metadata": {},
   "source": [
    "**Answer: ** \n",
    "\n",
    "Gradient Boosting Classifier is an ensemble learning method which solves the problem by gradually introducing weak learners and combining their output to classify an example. Each weak learner builds on previous weak learner and tries to tackle the problems that previous learners couldn't solve. To explain the notion of a weak learner let me explore the dataset a bit. Below you can see the histograms that show the relationship between income and two numerical features: age and hours per week. It is clear that the distrubition in these features is different for the two types of income class. This may serve as a hint for a weak learner. Suppose that the first weak learner grasps that people at their 50s is more likely to make >=50k and it outputs this rule. But this rule is not perfect so the second learner gets examples that were not classified correctly by first rule. The second learner notices that people working more than 60 hours per week is more likely to make >=50k and outputs this rule. This process is repeated until no further improvements can be made.  \n",
    "\n",
    "In short, the training process is the repetition of these steps:\n",
    "\n",
    "1. Subset a data by choosing the hardest examples (the ones that were not classified correclty by the previous learner).\n",
    "2. Construct a learner that is guaranteed to do better than random guessing (it can do just slightly better or it can be pretty accurate, the only condition is that it is better than chance). \n",
    "\n",
    "The actual prediction is made by taking a weighted sum of weak learner's output and passing it to the sign function i.e. taking the sign of the final sum to determine the class of an example. "
   ]
  },
  {
   "cell_type": "code",
   "execution_count": 37,
   "metadata": {
    "collapsed": false
   },
   "outputs": [
    {
     "data": {
      "text/plain": [
       "array([<matplotlib.axes._subplots.AxesSubplot object at 0x12114e4d0>,\n",
       "       <matplotlib.axes._subplots.AxesSubplot object at 0x12221d050>], dtype=object)"
      ]
     },
     "execution_count": 37,
     "metadata": {},
     "output_type": "execute_result"
    },
    {
     "data": {
      "image/png": "[encoded data removed]",
      "text/plain": [
       "<matplotlib.figure.Figure at 0x121283650>"
      ]
     },
     "metadata": {},
     "output_type": "display_data"
    }
   ],
   "source": [
    "data.hist(column=\"age\", by=\"income\", normed=True)"
   ]
  },
  {
   "cell_type": "code",
   "execution_count": 38,
   "metadata": {
    "collapsed": false
   },
   "outputs": [
    {
     "data": {
      "text/plain": [
       "array([<matplotlib.axes._subplots.AxesSubplot object at 0x12381b890>,\n",
       "       <matplotlib.axes._subplots.AxesSubplot object at 0x1212ddc90>], dtype=object)"
      ]
     },
     "execution_count": 38,
     "metadata": {},
     "output_type": "execute_result"
    },
    {
     "data": {
      "image/png": "[encoded data removed]",
      "text/plain": [
       "<matplotlib.figure.Figure at 0x121508710>"
      ]
     },
     "metadata": {},
     "output_type": "display_data"
    }
   ],
   "source": [
    "data.hist(column=\"hours-per-week\", by=\"income\", normed=True)"
   ]
  },
  {
   "cell_type": "markdown",
   "metadata": {},
   "source": [
    "### Implementation: Model Tuning\n",
    "Fine tune the chosen model. Use grid search (`GridSearchCV`) with at least one important parameter tuned with at least 3 different values. You will need to use the entire training set for this. In the code cell below, you will need to implement the following:\n",
    "- Import [`sklearn.grid_search.GridSearchCV`](http://scikit-learn.org/0.17/modules/generated/sklearn.grid_search.GridSearchCV.html) and [`sklearn.metrics.make_scorer`](http://scikit-learn.org/stable/modules/generated/sklearn.metrics.make_scorer.html).\n",
    "- Initialize the classifier you've chosen and store it in `clf`.\n",
    " - Set a `random_state` if one is available to the same state you set before.\n",
    "- Create a dictionary of parameters you wish to tune for the chosen model.\n",
    " - Example: `parameters = {'parameter' : [list of values]}`.\n",
    " - **Note:** Avoid tuning the `max_features` parameter of your learner if that parameter is available!\n",
    "- Use `make_scorer` to create an `fbeta_score` scoring object (with $\\beta = 0.5$).\n",
    "- Perform grid search on the classifier `clf` using the `'scorer'`, and store it in `grid_obj`.\n",
    "- Fit the grid search object to the training data (`X_train`, `y_train`), and store it in `grid_fit`.\n",
    "\n",
    "**Note:** Depending on the algorithm chosen and the parameter list, the following implementation may take some time to run!"
   ]
  },
  {
   "cell_type": "code",
   "execution_count": 26,
   "metadata": {
    "collapsed": false
   },
   "outputs": [
    {
     "name": "stdout",
     "output_type": "stream",
     "text": [
      "Fitting 3 folds for each of 81 candidates, totalling 243 fits\n",
      "[CV] min_samples_split=2, n_estimators=50, learning_rate=0.1, max_depth=3 \n",
      "[CV]  min_samples_split=2, n_estimators=50, learning_rate=0.1, max_depth=3, score=0.733949 -   3.8s\n",
      "[CV] min_samples_split=2, n_estimators=50, learning_rate=0.1, max_depth=3 \n",
      "[CV]  min_samples_split=2, n_estimators=50, learning_rate=0.1, max_depth=3, score=0.734355 -   3.8s\n",
      "[CV] min_samples_split=2, n_estimators=50, learning_rate=0.1, max_depth=3 \n",
      "[CV]  min_samples_split=2, n_estimators=50, learning_rate=0.1, max_depth=3, score=0.742466 -   3.7s\n",
      "[CV] min_samples_split=2, n_estimators=100, learning_rate=0.1, max_depth=3 \n",
      "[CV]  min_samples_split=2, n_estimators=100, learning_rate=0.1, max_depth=3, score=0.738870 -   6.3s"
     ]
    },
    {
     "name": "stderr",
     "output_type": "stream",
     "text": [
      "[Parallel(n_jobs=1)]: Done   1 tasks       | elapsed:    3.8s\n",
      "[Parallel(n_jobs=1)]: Done   4 tasks       | elapsed:   17.6s\n"
     ]
    },
    {
     "name": "stdout",
     "output_type": "stream",
     "text": [
      "\n",
      "[CV] min_samples_split=2, n_estimators=100, learning_rate=0.1, max_depth=3 \n",
      "[CV]  min_samples_split=2, n_estimators=100, learning_rate=0.1, max_depth=3, score=0.743345 -   6.3s\n",
      "[CV] min_samples_split=2, n_estimators=100, learning_rate=0.1, max_depth=3 \n",
      "[CV]  min_samples_split=2, n_estimators=100, learning_rate=0.1, max_depth=3, score=0.748119 -   6.3s\n",
      "[CV] min_samples_split=2, n_estimators=150, learning_rate=0.1, max_depth=3 \n",
      "[CV]  min_samples_split=2, n_estimators=150, learning_rate=0.1, max_depth=3, score=0.746843 -   8.5s\n",
      "[CV] min_samples_split=2, n_estimators=150, learning_rate=0.1, max_depth=3 \n",
      "[CV]  min_samples_split=2, n_estimators=150, learning_rate=0.1, max_depth=3, score=0.747616 -   8.5s\n",
      "[CV] min_samples_split=2, n_estimators=150, learning_rate=0.1, max_depth=3 \n",
      "[CV]  min_samples_split=2, n_estimators=150, learning_rate=0.1, max_depth=3, score=0.755800 -   8.3s\n",
      "[CV] min_samples_split=3, n_estimators=50, learning_rate=0.1, max_depth=3 \n",
      "[CV]  min_samples_split=3, n_estimators=50, learning_rate=0.1, max_depth=3, score=0.733949 -   3.8s\n",
      "[CV] min_samples_split=3, n_estimators=50, learning_rate=0.1, max_depth=3 \n",
      "[CV]  min_samples_split=3, n_estimators=50, learning_rate=0.1, max_depth=3, score=0.734355 -   3.7s\n",
      "[CV] min_samples_split=3, n_estimators=50, learning_rate=0.1, max_depth=3 \n",
      "[CV]  min_samples_split=3, n_estimators=50, learning_rate=0.1, max_depth=3, score=0.742466 -   3.8s"
     ]
    },
    {
     "name": "stderr",
     "output_type": "stream",
     "text": [
      "[Parallel(n_jobs=1)]: Done   7 tasks       | elapsed:   38.8s\n",
      "[Parallel(n_jobs=1)]: Done  12 tasks       | elapsed:  1.1min\n"
     ]
    },
    {
     "name": "stdout",
     "output_type": "stream",
     "text": [
      "\n",
      "[CV] min_samples_split=3, n_estimators=100, learning_rate=0.1, max_depth=3 \n",
      "[CV]  min_samples_split=3, n_estimators=100, learning_rate=0.1, max_depth=3, score=0.738870 -   6.2s\n",
      "[CV] min_samples_split=3, n_estimators=100, learning_rate=0.1, max_depth=3 \n",
      "[CV]  min_samples_split=3, n_estimators=100, learning_rate=0.1, max_depth=3, score=0.744216 -   6.4s\n",
      "[CV] min_samples_split=3, n_estimators=100, learning_rate=0.1, max_depth=3 \n",
      "[CV]  min_samples_split=3, n_estimators=100, learning_rate=0.1, max_depth=3, score=0.748119 -   6.3s\n",
      "[CV] min_samples_split=3, n_estimators=150, learning_rate=0.1, max_depth=3 \n",
      "[CV]  min_samples_split=3, n_estimators=150, learning_rate=0.1, max_depth=3, score=0.747400 -   8.7s\n",
      "[CV] min_samples_split=3, n_estimators=150, learning_rate=0.1, max_depth=3 \n",
      "[CV]  min_samples_split=3, n_estimators=150, learning_rate=0.1, max_depth=3, score=0.745910 -   8.6s\n",
      "[CV] min_samples_split=3, n_estimators=150, learning_rate=0.1, max_depth=3 \n",
      "[CV]  min_samples_split=3, n_estimators=150, learning_rate=0.1, max_depth=3, score=0.755800 -   8.4s\n",
      "[CV] min_samples_split=4, n_estimators=50, learning_rate=0.1, max_depth=3 \n",
      "[CV]  min_samples_split=4, n_estimators=50, learning_rate=0.1, max_depth=3, score=0.733949 -   3.8s\n",
      "[CV] min_samples_split=4, n_estimators=50, learning_rate=0.1, max_depth=3 \n",
      "[CV]  min_samples_split=4, n_estimators=50, learning_rate=0.1, max_depth=3, score=0.734355 -   3.7s\n",
      "[CV] min_samples_split=4, n_estimators=50, learning_rate=0.1, max_depth=3 \n",
      "[CV]  min_samples_split=4, n_estimators=50, learning_rate=0.1, max_depth=3, score=0.742205 -   3.7s\n",
      "[CV] min_samples_split=4, n_estimators=100, learning_rate=0.1, max_depth=3 \n",
      "[CV]  min_samples_split=4, n_estimators=100, learning_rate=0.1, max_depth=3, score=0.741876 -   6.4s\n",
      "[CV] min_samples_split=4, n_estimators=100, learning_rate=0.1, max_depth=3 \n",
      "[CV]  min_samples_split=4, n_estimators=100, learning_rate=0.1, max_depth=3, score=0.744216 -   6.5s\n",
      "[CV] min_samples_split=4, n_estimators=100, learning_rate=0.1, max_depth=3 \n",
      "[CV]  min_samples_split=4, n_estimators=100, learning_rate=0.1, max_depth=3, score=0.747872 -   6.3s"
     ]
    },
    {
     "name": "stderr",
     "output_type": "stream",
     "text": [
      "[Parallel(n_jobs=1)]: Done  17 tasks       | elapsed:  1.7min\n",
      "[Parallel(n_jobs=1)]: Done  24 tasks       | elapsed:  2.4min\n"
     ]
    },
    {
     "name": "stdout",
     "output_type": "stream",
     "text": [
      "\n",
      "[CV] min_samples_split=4, n_estimators=150, learning_rate=0.1, max_depth=3 \n",
      "[CV]  min_samples_split=4, n_estimators=150, learning_rate=0.1, max_depth=3, score=0.747734 -   8.3s\n",
      "[CV] min_samples_split=4, n_estimators=150, learning_rate=0.1, max_depth=3 \n",
      "[CV]  min_samples_split=4, n_estimators=150, learning_rate=0.1, max_depth=3, score=0.745910 -   8.5s\n",
      "[CV] min_samples_split=4, n_estimators=150, learning_rate=0.1, max_depth=3 \n",
      "[CV]  min_samples_split=4, n_estimators=150, learning_rate=0.1, max_depth=3, score=0.755620 -   8.5s\n",
      "[CV] min_samples_split=2, n_estimators=50, learning_rate=0.1, max_depth=4 \n",
      "[CV]  min_samples_split=2, n_estimators=50, learning_rate=0.1, max_depth=4, score=0.745282 -   5.8s\n",
      "[CV] min_samples_split=2, n_estimators=50, learning_rate=0.1, max_depth=4 \n",
      "[CV]  min_samples_split=2, n_estimators=50, learning_rate=0.1, max_depth=4, score=0.742929 -   5.7s\n",
      "[CV] min_samples_split=2, n_estimators=50, learning_rate=0.1, max_depth=4 \n",
      "[CV]  min_samples_split=2, n_estimators=50, learning_rate=0.1, max_depth=4, score=0.749433 -   5.8s\n",
      "[CV] min_samples_split=2, n_estimators=100, learning_rate=0.1, max_depth=4 \n",
      "[CV]  min_samples_split=2, n_estimators=100, learning_rate=0.1, max_depth=4, score=0.751113 -   9.8s\n",
      "[CV] min_samples_split=2, n_estimators=100, learning_rate=0.1, max_depth=4 \n",
      "[CV]  min_samples_split=2, n_estimators=100, learning_rate=0.1, max_depth=4, score=0.744993 -  10.0s\n",
      "[CV] min_samples_split=2, n_estimators=100, learning_rate=0.1, max_depth=4 \n",
      "[CV]  min_samples_split=2, n_estimators=100, learning_rate=0.1, max_depth=4, score=0.755231 -   9.8s\n",
      "[CV] min_samples_split=2, n_estimators=150, learning_rate=0.1, max_depth=4 \n",
      "[CV]  min_samples_split=2, n_estimators=150, learning_rate=0.1, max_depth=4, score=0.756049 -  13.0s\n",
      "[CV] min_samples_split=2, n_estimators=150, learning_rate=0.1, max_depth=4 \n",
      "[CV]  min_samples_split=2, n_estimators=150, learning_rate=0.1, max_depth=4, score=0.745216 -  13.1s\n",
      "[CV] min_samples_split=2, n_estimators=150, learning_rate=0.1, max_depth=4 \n",
      "[CV]  min_samples_split=2, n_estimators=150, learning_rate=0.1, max_depth=4, score=0.759489 -  13.0s\n",
      "[CV] min_samples_split=3, n_estimators=50, learning_rate=0.1, max_depth=4 \n",
      "[CV]  min_samples_split=3, n_estimators=50, learning_rate=0.1, max_depth=4, score=0.745282 -   5.8s\n",
      "[CV] min_samples_split=3, n_estimators=50, learning_rate=0.1, max_depth=4 \n",
      "[CV]  min_samples_split=3, n_estimators=50, learning_rate=0.1, max_depth=4, score=0.742929 -   5.8s\n",
      "[CV] min_samples_split=3, n_estimators=50, learning_rate=0.1, max_depth=4 \n",
      "[CV]  min_samples_split=3, n_estimators=50, learning_rate=0.1, max_depth=4, score=0.749433 -   5.9s\n",
      "[CV] min_samples_split=3, n_estimators=100, learning_rate=0.1, max_depth=4 \n",
      "[CV]  min_samples_split=3, n_estimators=100, learning_rate=0.1, max_depth=4, score=0.749318 -   9.6s"
     ]
    },
    {
     "name": "stderr",
     "output_type": "stream",
     "text": [
      "[Parallel(n_jobs=1)]: Done  31 tasks       | elapsed:  3.2min\n",
      "[Parallel(n_jobs=1)]: Done  40 tasks       | elapsed:  4.7min\n"
     ]
    },
    {
     "name": "stdout",
     "output_type": "stream",
     "text": [
      "\n",
      "[CV] min_samples_split=3, n_estimators=100, learning_rate=0.1, max_depth=4 \n",
      "[CV]  min_samples_split=3, n_estimators=100, learning_rate=0.1, max_depth=4, score=0.742853 -   9.5s\n",
      "[CV] min_samples_split=3, n_estimators=100, learning_rate=0.1, max_depth=4 \n",
      "[CV]  min_samples_split=3, n_estimators=100, learning_rate=0.1, max_depth=4, score=0.757867 -   9.7s\n",
      "[CV] min_samples_split=3, n_estimators=150, learning_rate=0.1, max_depth=4 \n",
      "[CV]  min_samples_split=3, n_estimators=150, learning_rate=0.1, max_depth=4, score=0.753556 -  12.6s\n",
      "[CV] min_samples_split=3, n_estimators=150, learning_rate=0.1, max_depth=4 \n",
      "[CV]  min_samples_split=3, n_estimators=150, learning_rate=0.1, max_depth=4, score=0.747582 -  12.7s\n",
      "[CV] min_samples_split=3, n_estimators=150, learning_rate=0.1, max_depth=4 \n",
      "[CV]  min_samples_split=3, n_estimators=150, learning_rate=0.1, max_depth=4, score=0.760331 -  12.9s\n",
      "[CV] min_samples_split=4, n_estimators=50, learning_rate=0.1, max_depth=4 \n",
      "[CV]  min_samples_split=4, n_estimators=50, learning_rate=0.1, max_depth=4, score=0.744114 -   5.6s\n",
      "[CV] min_samples_split=4, n_estimators=50, learning_rate=0.1, max_depth=4 \n",
      "[CV]  min_samples_split=4, n_estimators=50, learning_rate=0.1, max_depth=4, score=0.742852 -   5.8s\n",
      "[CV] min_samples_split=4, n_estimators=50, learning_rate=0.1, max_depth=4 \n",
      "[CV]  min_samples_split=4, n_estimators=50, learning_rate=0.1, max_depth=4, score=0.750021 -   5.8s\n",
      "[CV] min_samples_split=4, n_estimators=100, learning_rate=0.1, max_depth=4 \n",
      "[CV]  min_samples_split=4, n_estimators=100, learning_rate=0.1, max_depth=4, score=0.747587 -   9.2s\n",
      "[CV] min_samples_split=4, n_estimators=100, learning_rate=0.1, max_depth=4 \n",
      "[CV]  min_samples_split=4, n_estimators=100, learning_rate=0.1, max_depth=4, score=0.744229 -   9.5s\n",
      "[CV] min_samples_split=4, n_estimators=100, learning_rate=0.1, max_depth=4 \n",
      "[CV]  min_samples_split=4, n_estimators=100, learning_rate=0.1, max_depth=4, score=0.757247 -   9.3s\n",
      "[CV] min_samples_split=4, n_estimators=150, learning_rate=0.1, max_depth=4 \n",
      "[CV]  min_samples_split=4, n_estimators=150, learning_rate=0.1, max_depth=4, score=0.755809 -  12.6s\n",
      "[CV] min_samples_split=4, n_estimators=150, learning_rate=0.1, max_depth=4 \n",
      "[CV]  min_samples_split=4, n_estimators=150, learning_rate=0.1, max_depth=4, score=0.748343 -  12.7s\n",
      "[CV] min_samples_split=4, n_estimators=150, learning_rate=0.1, max_depth=4 \n",
      "[CV]  min_samples_split=4, n_estimators=150, learning_rate=0.1, max_depth=4, score=0.759937 -  13.0s\n",
      "[CV] min_samples_split=2, n_estimators=50, learning_rate=0.1, max_depth=5 \n",
      "[CV]  min_samples_split=2, n_estimators=50, learning_rate=0.1, max_depth=5, score=0.749940 -   8.6s\n",
      "[CV] min_samples_split=2, n_estimators=50, learning_rate=0.1, max_depth=5 \n",
      "[CV]  min_samples_split=2, n_estimators=50, learning_rate=0.1, max_depth=5, score=0.743867 -   8.4s\n",
      "[CV] min_samples_split=2, n_estimators=50, learning_rate=0.1, max_depth=5 \n",
      "[CV]  min_samples_split=2, n_estimators=50, learning_rate=0.1, max_depth=5, score=0.752074 -   8.4s\n",
      "[CV] min_samples_split=2, n_estimators=100, learning_rate=0.1, max_depth=5 \n",
      "[CV]  min_samples_split=2, n_estimators=100, learning_rate=0.1, max_depth=5, score=0.757447 -  14.5s\n",
      "[CV] min_samples_split=2, n_estimators=100, learning_rate=0.1, max_depth=5 \n",
      "[CV]  min_samples_split=2, n_estimators=100, learning_rate=0.1, max_depth=5, score=0.748428 -  13.4s\n",
      "[CV] min_samples_split=2, n_estimators=100, learning_rate=0.1, max_depth=5 \n",
      "[CV]  min_samples_split=2, n_estimators=100, learning_rate=0.1, max_depth=5, score=0.759121 -  14.6s"
     ]
    },
    {
     "name": "stderr",
     "output_type": "stream",
     "text": [
      "[Parallel(n_jobs=1)]: Done  49 tasks       | elapsed:  6.1min\n",
      "[Parallel(n_jobs=1)]: Done  60 tasks       | elapsed:  8.2min\n"
     ]
    },
    {
     "name": "stdout",
     "output_type": "stream",
     "text": [
      "\n",
      "[CV] min_samples_split=2, n_estimators=150, learning_rate=0.1, max_depth=5 \n",
      "[CV]  min_samples_split=2, n_estimators=150, learning_rate=0.1, max_depth=5, score=0.755818 -  19.0s\n",
      "[CV] min_samples_split=2, n_estimators=150, learning_rate=0.1, max_depth=5 \n",
      "[CV]  min_samples_split=2, n_estimators=150, learning_rate=0.1, max_depth=5, score=0.749265 -  18.2s\n",
      "[CV] min_samples_split=2, n_estimators=150, learning_rate=0.1, max_depth=5 \n",
      "[CV]  min_samples_split=2, n_estimators=150, learning_rate=0.1, max_depth=5, score=0.757328 -  18.5s\n",
      "[CV] min_samples_split=3, n_estimators=50, learning_rate=0.1, max_depth=5 \n",
      "[CV]  min_samples_split=3, n_estimators=50, learning_rate=0.1, max_depth=5, score=0.750260 -   8.2s\n",
      "[CV] min_samples_split=3, n_estimators=50, learning_rate=0.1, max_depth=5 \n",
      "[CV]  min_samples_split=3, n_estimators=50, learning_rate=0.1, max_depth=5, score=0.742907 -   8.0s\n",
      "[CV] min_samples_split=3, n_estimators=50, learning_rate=0.1, max_depth=5 \n",
      "[CV]  min_samples_split=3, n_estimators=50, learning_rate=0.1, max_depth=5, score=0.751827 -   8.5s\n",
      "[CV] min_samples_split=3, n_estimators=100, learning_rate=0.1, max_depth=5 \n",
      "[CV]  min_samples_split=3, n_estimators=100, learning_rate=0.1, max_depth=5, score=0.755962 -  13.8s\n",
      "[CV] min_samples_split=3, n_estimators=100, learning_rate=0.1, max_depth=5 \n",
      "[CV]  min_samples_split=3, n_estimators=100, learning_rate=0.1, max_depth=5, score=0.748356 -  13.6s\n",
      "[CV] min_samples_split=3, n_estimators=100, learning_rate=0.1, max_depth=5 \n",
      "[CV]  min_samples_split=3, n_estimators=100, learning_rate=0.1, max_depth=5, score=0.758575 -  13.9s\n",
      "[CV] min_samples_split=3, n_estimators=150, learning_rate=0.1, max_depth=5 \n",
      "[CV]  min_samples_split=3, n_estimators=150, learning_rate=0.1, max_depth=5, score=0.755014 -  18.6s\n",
      "[CV] min_samples_split=3, n_estimators=150, learning_rate=0.1, max_depth=5 \n",
      "[CV]  min_samples_split=3, n_estimators=150, learning_rate=0.1, max_depth=5, score=0.750170 -  18.4s\n",
      "[CV] min_samples_split=3, n_estimators=150, learning_rate=0.1, max_depth=5 \n",
      "[CV]  min_samples_split=3, n_estimators=150, learning_rate=0.1, max_depth=5, score=0.756836 -  18.7s\n",
      "[CV] min_samples_split=4, n_estimators=50, learning_rate=0.1, max_depth=5 \n",
      "[CV]  min_samples_split=4, n_estimators=50, learning_rate=0.1, max_depth=5, score=0.751310 -   8.3s\n",
      "[CV] min_samples_split=4, n_estimators=50, learning_rate=0.1, max_depth=5 \n",
      "[CV]  min_samples_split=4, n_estimators=50, learning_rate=0.1, max_depth=5, score=0.743571 -   8.0s\n",
      "[CV] min_samples_split=4, n_estimators=50, learning_rate=0.1, max_depth=5 \n",
      "[CV]  min_samples_split=4, n_estimators=50, learning_rate=0.1, max_depth=5, score=0.753133 -   8.8s\n",
      "[CV] min_samples_split=4, n_estimators=100, learning_rate=0.1, max_depth=5 \n",
      "[CV]  min_samples_split=4, n_estimators=100, learning_rate=0.1, max_depth=5, score=0.759215 -  13.8s\n",
      "[CV] min_samples_split=4, n_estimators=100, learning_rate=0.1, max_depth=5 \n",
      "[CV]  min_samples_split=4, n_estimators=100, learning_rate=0.1, max_depth=5, score=0.750095 -  13.9s\n",
      "[CV] min_samples_split=4, n_estimators=100, learning_rate=0.1, max_depth=5 \n",
      "[CV]  min_samples_split=4, n_estimators=100, learning_rate=0.1, max_depth=5, score=0.759683 -  14.2s\n",
      "[CV] min_samples_split=4, n_estimators=150, learning_rate=0.1, max_depth=5 \n",
      "[CV]  min_samples_split=4, n_estimators=150, learning_rate=0.1, max_depth=5, score=0.757982 -  18.6s\n",
      "[CV] min_samples_split=4, n_estimators=150, learning_rate=0.1, max_depth=5 \n",
      "[CV]  min_samples_split=4, n_estimators=150, learning_rate=0.1, max_depth=5, score=0.749192 -  18.1s\n",
      "[CV] min_samples_split=4, n_estimators=150, learning_rate=0.1, max_depth=5 \n",
      "[CV]  min_samples_split=4, n_estimators=150, learning_rate=0.1, max_depth=5, score=0.758800 -  18.3s\n",
      "[CV] min_samples_split=2, n_estimators=50, learning_rate=0.2, max_depth=3 \n",
      "[CV]  min_samples_split=2, n_estimators=50, learning_rate=0.2, max_depth=3, score=0.742166 -   3.0s\n",
      "[CV] min_samples_split=2, n_estimators=50, learning_rate=0.2, max_depth=3 \n",
      "[CV]  min_samples_split=2, n_estimators=50, learning_rate=0.2, max_depth=3, score=0.744236 -   3.2s\n",
      "[CV] min_samples_split=2, n_estimators=50, learning_rate=0.2, max_depth=3 \n",
      "[CV]  min_samples_split=2, n_estimators=50, learning_rate=0.2, max_depth=3, score=0.753159 -   3.1s"
     ]
    },
    {
     "name": "stderr",
     "output_type": "stream",
     "text": [
      "[Parallel(n_jobs=1)]: Done  71 tasks       | elapsed: 10.8min\n",
      "[Parallel(n_jobs=1)]: Done  84 tasks       | elapsed: 13.3min\n"
     ]
    },
    {
     "name": "stdout",
     "output_type": "stream",
     "text": [
      "\n",
      "[CV] min_samples_split=2, n_estimators=100, learning_rate=0.2, max_depth=3 \n",
      "[CV]  min_samples_split=2, n_estimators=100, learning_rate=0.2, max_depth=3, score=0.748217 -   5.3s\n",
      "[CV] min_samples_split=2, n_estimators=100, learning_rate=0.2, max_depth=3 \n",
      "[CV]  min_samples_split=2, n_estimators=100, learning_rate=0.2, max_depth=3, score=0.745150 -   5.5s\n",
      "[CV] min_samples_split=2, n_estimators=100, learning_rate=0.2, max_depth=3 \n",
      "[CV]  min_samples_split=2, n_estimators=100, learning_rate=0.2, max_depth=3, score=0.757274 -   5.6s\n",
      "[CV] min_samples_split=2, n_estimators=150, learning_rate=0.2, max_depth=3 \n",
      "[CV]  min_samples_split=2, n_estimators=150, learning_rate=0.2, max_depth=3, score=0.754332 -   7.6s\n",
      "[CV] min_samples_split=2, n_estimators=150, learning_rate=0.2, max_depth=3 \n",
      "[CV]  min_samples_split=2, n_estimators=150, learning_rate=0.2, max_depth=3, score=0.749713 -   7.9s\n",
      "[CV] min_samples_split=2, n_estimators=150, learning_rate=0.2, max_depth=3 \n",
      "[CV]  min_samples_split=2, n_estimators=150, learning_rate=0.2, max_depth=3, score=0.759767 -   8.0s\n",
      "[CV] min_samples_split=3, n_estimators=50, learning_rate=0.2, max_depth=3 \n",
      "[CV]  min_samples_split=3, n_estimators=50, learning_rate=0.2, max_depth=3, score=0.742467 -   3.2s\n",
      "[CV] min_samples_split=3, n_estimators=50, learning_rate=0.2, max_depth=3 \n",
      "[CV]  min_samples_split=3, n_estimators=50, learning_rate=0.2, max_depth=3, score=0.744236 -   3.1s\n",
      "[CV] min_samples_split=3, n_estimators=50, learning_rate=0.2, max_depth=3 \n",
      "[CV]  min_samples_split=3, n_estimators=50, learning_rate=0.2, max_depth=3, score=0.753159 -   3.4s\n",
      "[CV] min_samples_split=3, n_estimators=100, learning_rate=0.2, max_depth=3 \n",
      "[CV]  min_samples_split=3, n_estimators=100, learning_rate=0.2, max_depth=3, score=0.752056 -   5.5s\n",
      "[CV] min_samples_split=3, n_estimators=100, learning_rate=0.2, max_depth=3 \n",
      "[CV]  min_samples_split=3, n_estimators=100, learning_rate=0.2, max_depth=3, score=0.745469 -   5.4s\n",
      "[CV] min_samples_split=3, n_estimators=100, learning_rate=0.2, max_depth=3 \n",
      "[CV]  min_samples_split=3, n_estimators=100, learning_rate=0.2, max_depth=3, score=0.760479 -   5.5s\n",
      "[CV] min_samples_split=3, n_estimators=150, learning_rate=0.2, max_depth=3 \n",
      "[CV]  min_samples_split=3, n_estimators=150, learning_rate=0.2, max_depth=3, score=0.753715 -   7.7s\n",
      "[CV] min_samples_split=3, n_estimators=150, learning_rate=0.2, max_depth=3 \n",
      "[CV]  min_samples_split=3, n_estimators=150, learning_rate=0.2, max_depth=3, score=0.751240 -   8.0s\n",
      "[CV] min_samples_split=3, n_estimators=150, learning_rate=0.2, max_depth=3 \n",
      "[CV]  min_samples_split=3, n_estimators=150, learning_rate=0.2, max_depth=3, score=0.761511 -   8.0s\n",
      "[CV] min_samples_split=4, n_estimators=50, learning_rate=0.2, max_depth=3 \n",
      "[CV]  min_samples_split=4, n_estimators=50, learning_rate=0.2, max_depth=3, score=0.742467 -   3.1s\n",
      "[CV] min_samples_split=4, n_estimators=50, learning_rate=0.2, max_depth=3 \n",
      "[CV]  min_samples_split=4, n_estimators=50, learning_rate=0.2, max_depth=3, score=0.742367 -   3.2s\n",
      "[CV] min_samples_split=4, n_estimators=50, learning_rate=0.2, max_depth=3 \n",
      "[CV]  min_samples_split=4, n_estimators=50, learning_rate=0.2, max_depth=3, score=0.754446 -   3.4s\n",
      "[CV] min_samples_split=4, n_estimators=100, learning_rate=0.2, max_depth=3 \n",
      "[CV]  min_samples_split=4, n_estimators=100, learning_rate=0.2, max_depth=3, score=0.752056 -   5.5s\n",
      "[CV] min_samples_split=4, n_estimators=100, learning_rate=0.2, max_depth=3 \n",
      "[CV]  min_samples_split=4, n_estimators=100, learning_rate=0.2, max_depth=3, score=0.746551 -   5.4s\n",
      "[CV] min_samples_split=4, n_estimators=100, learning_rate=0.2, max_depth=3 \n",
      "[CV]  min_samples_split=4, n_estimators=100, learning_rate=0.2, max_depth=3, score=0.759869 -   5.5s\n",
      "[CV] min_samples_split=4, n_estimators=150, learning_rate=0.2, max_depth=3 \n",
      "[CV]  min_samples_split=4, n_estimators=150, learning_rate=0.2, max_depth=3, score=0.753715 -   7.4s\n",
      "[CV] min_samples_split=4, n_estimators=150, learning_rate=0.2, max_depth=3 \n",
      "[CV]  min_samples_split=4, n_estimators=150, learning_rate=0.2, max_depth=3, score=0.748949 -   7.3s\n",
      "[CV] min_samples_split=4, n_estimators=150, learning_rate=0.2, max_depth=3 \n",
      "[CV]  min_samples_split=4, n_estimators=150, learning_rate=0.2, max_depth=3, score=0.762444 -   7.5s\n",
      "[CV] min_samples_split=2, n_estimators=50, learning_rate=0.2, max_depth=4 \n",
      "[CV]  min_samples_split=2, n_estimators=50, learning_rate=0.2, max_depth=4, score=0.748459 -   4.8s\n",
      "[CV] min_samples_split=2, n_estimators=50, learning_rate=0.2, max_depth=4 \n",
      "[CV]  min_samples_split=2, n_estimators=50, learning_rate=0.2, max_depth=4, score=0.745751 -   4.9s\n",
      "[CV] min_samples_split=2, n_estimators=50, learning_rate=0.2, max_depth=4 \n",
      "[CV]  min_samples_split=2, n_estimators=50, learning_rate=0.2, max_depth=4, score=0.754451 -   4.8s\n",
      "[CV] min_samples_split=2, n_estimators=100, learning_rate=0.2, max_depth=4 \n",
      "[CV]  min_samples_split=2, n_estimators=100, learning_rate=0.2, max_depth=4, score=0.754122 -   8.2s"
     ]
    },
    {
     "name": "stderr",
     "output_type": "stream",
     "text": [
      "[Parallel(n_jobs=1)]: Done  97 tasks       | elapsed: 14.5min\n",
      "[Parallel(n_jobs=1)]: Done 112 tasks       | elapsed: 16.0min\n"
     ]
    },
    {
     "name": "stdout",
     "output_type": "stream",
     "text": [
      "\n",
      "[CV] min_samples_split=2, n_estimators=100, learning_rate=0.2, max_depth=4 \n",
      "[CV]  min_samples_split=2, n_estimators=100, learning_rate=0.2, max_depth=4, score=0.746319 -   8.2s\n",
      "[CV] min_samples_split=2, n_estimators=100, learning_rate=0.2, max_depth=4 \n",
      "[CV]  min_samples_split=2, n_estimators=100, learning_rate=0.2, max_depth=4, score=0.756293 -   8.1s\n",
      "[CV] min_samples_split=2, n_estimators=150, learning_rate=0.2, max_depth=4 \n",
      "[CV]  min_samples_split=2, n_estimators=150, learning_rate=0.2, max_depth=4, score=0.751829 -  11.2s\n",
      "[CV] min_samples_split=2, n_estimators=150, learning_rate=0.2, max_depth=4 \n",
      "[CV]  min_samples_split=2, n_estimators=150, learning_rate=0.2, max_depth=4, score=0.744099 -  11.4s\n",
      "[CV] min_samples_split=2, n_estimators=150, learning_rate=0.2, max_depth=4 \n",
      "[CV]  min_samples_split=2, n_estimators=150, learning_rate=0.2, max_depth=4, score=0.758594 -  11.7s\n",
      "[CV] min_samples_split=3, n_estimators=50, learning_rate=0.2, max_depth=4 \n",
      "[CV]  min_samples_split=3, n_estimators=50, learning_rate=0.2, max_depth=4, score=0.750175 -   4.9s\n",
      "[CV] min_samples_split=3, n_estimators=50, learning_rate=0.2, max_depth=4 \n",
      "[CV]  min_samples_split=3, n_estimators=50, learning_rate=0.2, max_depth=4, score=0.743156 -   4.9s\n",
      "[CV] min_samples_split=3, n_estimators=50, learning_rate=0.2, max_depth=4 \n",
      "[CV]  min_samples_split=3, n_estimators=50, learning_rate=0.2, max_depth=4, score=0.756370 -   4.9s\n",
      "[CV] min_samples_split=3, n_estimators=100, learning_rate=0.2, max_depth=4 \n",
      "[CV]  min_samples_split=3, n_estimators=100, learning_rate=0.2, max_depth=4, score=0.750397 -   8.3s\n",
      "[CV] min_samples_split=3, n_estimators=100, learning_rate=0.2, max_depth=4 \n",
      "[CV]  min_samples_split=3, n_estimators=100, learning_rate=0.2, max_depth=4, score=0.745426 -   8.2s\n",
      "[CV] min_samples_split=3, n_estimators=100, learning_rate=0.2, max_depth=4 \n",
      "[CV]  min_samples_split=3, n_estimators=100, learning_rate=0.2, max_depth=4, score=0.757055 -   8.2s\n",
      "[CV] min_samples_split=3, n_estimators=150, learning_rate=0.2, max_depth=4 \n",
      "[CV]  min_samples_split=3, n_estimators=150, learning_rate=0.2, max_depth=4, score=0.750623 -  11.5s\n",
      "[CV] min_samples_split=3, n_estimators=150, learning_rate=0.2, max_depth=4 \n",
      "[CV]  min_samples_split=3, n_estimators=150, learning_rate=0.2, max_depth=4, score=0.745978 -  11.5s\n",
      "[CV] min_samples_split=3, n_estimators=150, learning_rate=0.2, max_depth=4 \n",
      "[CV]  min_samples_split=3, n_estimators=150, learning_rate=0.2, max_depth=4, score=0.758303 -  11.4s\n",
      "[CV] min_samples_split=4, n_estimators=50, learning_rate=0.2, max_depth=4 \n",
      "[CV]  min_samples_split=4, n_estimators=50, learning_rate=0.2, max_depth=4, score=0.749708 -   4.7s\n",
      "[CV] min_samples_split=4, n_estimators=50, learning_rate=0.2, max_depth=4 \n",
      "[CV]  min_samples_split=4, n_estimators=50, learning_rate=0.2, max_depth=4, score=0.745979 -   4.7s\n",
      "[CV] min_samples_split=4, n_estimators=50, learning_rate=0.2, max_depth=4 \n",
      "[CV]  min_samples_split=4, n_estimators=50, learning_rate=0.2, max_depth=4, score=0.758076 -   4.7s\n",
      "[CV] min_samples_split=4, n_estimators=100, learning_rate=0.2, max_depth=4 \n",
      "[CV]  min_samples_split=4, n_estimators=100, learning_rate=0.2, max_depth=4, score=0.755270 -   7.9s\n",
      "[CV] min_samples_split=4, n_estimators=100, learning_rate=0.2, max_depth=4 \n",
      "[CV]  min_samples_split=4, n_estimators=100, learning_rate=0.2, max_depth=4, score=0.747752 -   8.3s\n",
      "[CV] min_samples_split=4, n_estimators=100, learning_rate=0.2, max_depth=4 \n",
      "[CV]  min_samples_split=4, n_estimators=100, learning_rate=0.2, max_depth=4, score=0.758827 -   8.4s\n",
      "[CV] min_samples_split=4, n_estimators=150, learning_rate=0.2, max_depth=4 \n",
      "[CV]  min_samples_split=4, n_estimators=150, learning_rate=0.2, max_depth=4, score=0.750019 -  11.7s\n",
      "[CV] min_samples_split=4, n_estimators=150, learning_rate=0.2, max_depth=4 \n",
      "[CV]  min_samples_split=4, n_estimators=150, learning_rate=0.2, max_depth=4, score=0.746576 -  12.4s\n",
      "[CV] min_samples_split=4, n_estimators=150, learning_rate=0.2, max_depth=4 \n",
      "[CV]  min_samples_split=4, n_estimators=150, learning_rate=0.2, max_depth=4, score=0.759312 -  11.5s\n",
      "[CV] min_samples_split=2, n_estimators=50, learning_rate=0.2, max_depth=5 \n",
      "[CV]  min_samples_split=2, n_estimators=50, learning_rate=0.2, max_depth=5, score=0.754020 -   6.7s\n",
      "[CV] min_samples_split=2, n_estimators=50, learning_rate=0.2, max_depth=5 \n",
      "[CV]  min_samples_split=2, n_estimators=50, learning_rate=0.2, max_depth=5, score=0.746240 -   6.8s\n",
      "[CV] min_samples_split=2, n_estimators=50, learning_rate=0.2, max_depth=5 \n",
      "[CV]  min_samples_split=2, n_estimators=50, learning_rate=0.2, max_depth=5, score=0.759721 -   6.9s\n",
      "[CV] min_samples_split=2, n_estimators=100, learning_rate=0.2, max_depth=5 \n",
      "[CV]  min_samples_split=2, n_estimators=100, learning_rate=0.2, max_depth=5, score=0.754488 -  11.3s\n",
      "[CV] min_samples_split=2, n_estimators=100, learning_rate=0.2, max_depth=5 \n",
      "[CV]  min_samples_split=2, n_estimators=100, learning_rate=0.2, max_depth=5, score=0.743017 -  11.6s\n",
      "[CV] min_samples_split=2, n_estimators=100, learning_rate=0.2, max_depth=5 \n",
      "[CV]  min_samples_split=2, n_estimators=100, learning_rate=0.2, max_depth=5, score=0.756338 -  11.6s\n",
      "[CV] min_samples_split=2, n_estimators=150, learning_rate=0.2, max_depth=5 \n",
      "[CV]  min_samples_split=2, n_estimators=150, learning_rate=0.2, max_depth=5, score=0.751883 -  15.5s\n",
      "[CV] min_samples_split=2, n_estimators=150, learning_rate=0.2, max_depth=5 \n",
      "[CV]  min_samples_split=2, n_estimators=150, learning_rate=0.2, max_depth=5, score=0.740507 -  16.0s\n",
      "[CV] min_samples_split=2, n_estimators=150, learning_rate=0.2, max_depth=5 \n",
      "[CV]  min_samples_split=2, n_estimators=150, learning_rate=0.2, max_depth=5, score=0.753630 -  16.1s"
     ]
    },
    {
     "name": "stderr",
     "output_type": "stream",
     "text": [
      "[Parallel(n_jobs=1)]: Done 127 tasks       | elapsed: 18.1min\n",
      "[Parallel(n_jobs=1)]: Done 144 tasks       | elapsed: 21.0min\n"
     ]
    },
    {
     "name": "stdout",
     "output_type": "stream",
     "text": [
      "\n",
      "[CV] min_samples_split=3, n_estimators=50, learning_rate=0.2, max_depth=5 \n",
      "[CV]  min_samples_split=3, n_estimators=50, learning_rate=0.2, max_depth=5, score=0.751405 -   6.8s\n",
      "[CV] min_samples_split=3, n_estimators=50, learning_rate=0.2, max_depth=5 \n",
      "[CV]  min_samples_split=3, n_estimators=50, learning_rate=0.2, max_depth=5, score=0.743734 -   6.8s\n",
      "[CV] min_samples_split=3, n_estimators=50, learning_rate=0.2, max_depth=5 \n",
      "[CV]  min_samples_split=3, n_estimators=50, learning_rate=0.2, max_depth=5, score=0.761386 -   6.7s\n",
      "[CV] min_samples_split=3, n_estimators=100, learning_rate=0.2, max_depth=5 \n",
      "[CV]  min_samples_split=3, n_estimators=100, learning_rate=0.2, max_depth=5, score=0.747826 -  11.4s\n",
      "[CV] min_samples_split=3, n_estimators=100, learning_rate=0.2, max_depth=5 \n",
      "[CV]  min_samples_split=3, n_estimators=100, learning_rate=0.2, max_depth=5, score=0.742758 -  11.5s\n",
      "[CV] min_samples_split=3, n_estimators=100, learning_rate=0.2, max_depth=5 \n",
      "[CV]  min_samples_split=3, n_estimators=100, learning_rate=0.2, max_depth=5, score=0.758429 -  11.3s\n",
      "[CV] min_samples_split=3, n_estimators=150, learning_rate=0.2, max_depth=5 \n",
      "[CV]  min_samples_split=3, n_estimators=150, learning_rate=0.2, max_depth=5, score=0.747028 -  16.4s\n",
      "[CV] min_samples_split=3, n_estimators=150, learning_rate=0.2, max_depth=5 \n",
      "[CV]  min_samples_split=3, n_estimators=150, learning_rate=0.2, max_depth=5, score=0.742592 -  16.5s\n",
      "[CV] min_samples_split=3, n_estimators=150, learning_rate=0.2, max_depth=5 \n",
      "[CV]  min_samples_split=3, n_estimators=150, learning_rate=0.2, max_depth=5, score=0.754292 -  15.8s\n",
      "[CV] min_samples_split=4, n_estimators=50, learning_rate=0.2, max_depth=5 \n",
      "[CV]  min_samples_split=4, n_estimators=50, learning_rate=0.2, max_depth=5, score=0.754630 -   6.5s\n",
      "[CV] min_samples_split=4, n_estimators=50, learning_rate=0.2, max_depth=5 \n",
      "[CV]  min_samples_split=4, n_estimators=50, learning_rate=0.2, max_depth=5, score=0.746398 -   6.7s\n",
      "[CV] min_samples_split=4, n_estimators=50, learning_rate=0.2, max_depth=5 \n",
      "[CV]  min_samples_split=4, n_estimators=50, learning_rate=0.2, max_depth=5, score=0.756322 -   6.7s\n",
      "[CV] min_samples_split=4, n_estimators=100, learning_rate=0.2, max_depth=5 \n",
      "[CV]  min_samples_split=4, n_estimators=100, learning_rate=0.2, max_depth=5, score=0.752056 -  11.1s\n",
      "[CV] min_samples_split=4, n_estimators=100, learning_rate=0.2, max_depth=5 \n",
      "[CV]  min_samples_split=4, n_estimators=100, learning_rate=0.2, max_depth=5, score=0.745630 -  11.0s\n",
      "[CV] min_samples_split=4, n_estimators=100, learning_rate=0.2, max_depth=5 \n",
      "[CV]  min_samples_split=4, n_estimators=100, learning_rate=0.2, max_depth=5, score=0.757190 -  11.2s\n",
      "[CV] min_samples_split=4, n_estimators=150, learning_rate=0.2, max_depth=5 \n",
      "[CV]  min_samples_split=4, n_estimators=150, learning_rate=0.2, max_depth=5, score=0.750543 -  15.9s\n",
      "[CV] min_samples_split=4, n_estimators=150, learning_rate=0.2, max_depth=5 \n",
      "[CV]  min_samples_split=4, n_estimators=150, learning_rate=0.2, max_depth=5, score=0.743409 -  16.6s\n",
      "[CV] min_samples_split=4, n_estimators=150, learning_rate=0.2, max_depth=5 \n",
      "[CV]  min_samples_split=4, n_estimators=150, learning_rate=0.2, max_depth=5, score=0.756592 -  16.1s\n",
      "[CV] min_samples_split=2, n_estimators=50, learning_rate=0.3, max_depth=3 \n",
      "[CV]  min_samples_split=2, n_estimators=50, learning_rate=0.3, max_depth=3, score=0.749471 -   2.9s\n",
      "[CV] min_samples_split=2, n_estimators=50, learning_rate=0.3, max_depth=3 \n",
      "[CV]  min_samples_split=2, n_estimators=50, learning_rate=0.3, max_depth=3, score=0.741885 -   2.8s\n",
      "[CV] min_samples_split=2, n_estimators=50, learning_rate=0.3, max_depth=3 \n",
      "[CV]  min_samples_split=2, n_estimators=50, learning_rate=0.3, max_depth=3, score=0.755959 -   2.9s\n",
      "[CV] min_samples_split=2, n_estimators=100, learning_rate=0.3, max_depth=3 \n",
      "[CV]  min_samples_split=2, n_estimators=100, learning_rate=0.3, max_depth=3, score=0.753959 -   5.1s\n",
      "[CV] min_samples_split=2, n_estimators=100, learning_rate=0.3, max_depth=3 \n",
      "[CV]  min_samples_split=2, n_estimators=100, learning_rate=0.3, max_depth=3, score=0.747432 -   5.1s\n",
      "[CV] min_samples_split=2, n_estimators=100, learning_rate=0.3, max_depth=3 \n",
      "[CV]  min_samples_split=2, n_estimators=100, learning_rate=0.3, max_depth=3, score=0.756128 -   4.9s\n",
      "[CV] min_samples_split=2, n_estimators=150, learning_rate=0.3, max_depth=3 \n",
      "[CV]  min_samples_split=2, n_estimators=150, learning_rate=0.3, max_depth=3, score=0.753042 -   7.0s\n",
      "[CV] min_samples_split=2, n_estimators=150, learning_rate=0.3, max_depth=3 \n",
      "[CV]  min_samples_split=2, n_estimators=150, learning_rate=0.3, max_depth=3, score=0.749109 -   7.1s\n",
      "[CV] min_samples_split=2, n_estimators=150, learning_rate=0.3, max_depth=3 \n",
      "[CV]  min_samples_split=2, n_estimators=150, learning_rate=0.3, max_depth=3, score=0.759229 -   7.0s\n",
      "[CV] min_samples_split=3, n_estimators=50, learning_rate=0.3, max_depth=3 \n",
      "[CV]  min_samples_split=3, n_estimators=50, learning_rate=0.3, max_depth=3, score=0.749784 -   2.8s\n",
      "[CV] min_samples_split=3, n_estimators=50, learning_rate=0.3, max_depth=3 \n",
      "[CV]  min_samples_split=3, n_estimators=50, learning_rate=0.3, max_depth=3, score=0.743269 -   2.8s\n",
      "[CV] min_samples_split=3, n_estimators=50, learning_rate=0.3, max_depth=3 \n",
      "[CV]  min_samples_split=3, n_estimators=50, learning_rate=0.3, max_depth=3, score=0.755650 -   2.8s\n",
      "[CV] min_samples_split=3, n_estimators=100, learning_rate=0.3, max_depth=3 \n",
      "[CV]  min_samples_split=3, n_estimators=100, learning_rate=0.3, max_depth=3, score=0.755214 -   4.9s\n",
      "[CV] min_samples_split=3, n_estimators=100, learning_rate=0.3, max_depth=3 \n",
      "[CV]  min_samples_split=3, n_estimators=100, learning_rate=0.3, max_depth=3, score=0.741559 -   4.9s\n",
      "[CV] min_samples_split=3, n_estimators=100, learning_rate=0.3, max_depth=3 \n",
      "[CV]  min_samples_split=3, n_estimators=100, learning_rate=0.3, max_depth=3, score=0.753934 -   5.1s\n",
      "[CV] min_samples_split=3, n_estimators=150, learning_rate=0.3, max_depth=3 \n",
      "[CV]  min_samples_split=3, n_estimators=150, learning_rate=0.3, max_depth=3, score=0.752969 -   6.9s\n",
      "[CV] min_samples_split=3, n_estimators=150, learning_rate=0.3, max_depth=3 \n",
      "[CV]  min_samples_split=3, n_estimators=150, learning_rate=0.3, max_depth=3, score=0.749565 -   7.1s\n",
      "[CV] min_samples_split=3, n_estimators=150, learning_rate=0.3, max_depth=3 \n",
      "[CV]  min_samples_split=3, n_estimators=150, learning_rate=0.3, max_depth=3, score=0.756612 -   7.1s"
     ]
    },
    {
     "name": "stderr",
     "output_type": "stream",
     "text": [
      "[Parallel(n_jobs=1)]: Done 161 tasks       | elapsed: 24.2min\n",
      "[Parallel(n_jobs=1)]: Done 180 tasks       | elapsed: 25.9min\n"
     ]
    },
    {
     "name": "stdout",
     "output_type": "stream",
     "text": [
      "\n",
      "[CV] min_samples_split=4, n_estimators=50, learning_rate=0.3, max_depth=3 \n",
      "[CV]  min_samples_split=4, n_estimators=50, learning_rate=0.3, max_depth=3, score=0.753066 -   2.8s\n",
      "[CV] min_samples_split=4, n_estimators=50, learning_rate=0.3, max_depth=3 \n",
      "[CV]  min_samples_split=4, n_estimators=50, learning_rate=0.3, max_depth=3, score=0.743217 -   2.8s\n",
      "[CV] min_samples_split=4, n_estimators=50, learning_rate=0.3, max_depth=3 \n",
      "[CV]  min_samples_split=4, n_estimators=50, learning_rate=0.3, max_depth=3, score=0.756043 -   2.8s\n",
      "[CV] min_samples_split=4, n_estimators=100, learning_rate=0.3, max_depth=3 \n",
      "[CV]  min_samples_split=4, n_estimators=100, learning_rate=0.3, max_depth=3, score=0.754444 -   4.9s\n",
      "[CV] min_samples_split=4, n_estimators=100, learning_rate=0.3, max_depth=3 \n",
      "[CV]  min_samples_split=4, n_estimators=100, learning_rate=0.3, max_depth=3, score=0.746108 -   5.0s\n",
      "[CV] min_samples_split=4, n_estimators=100, learning_rate=0.3, max_depth=3 \n",
      "[CV]  min_samples_split=4, n_estimators=100, learning_rate=0.3, max_depth=3, score=0.757265 -   5.0s\n",
      "[CV] min_samples_split=4, n_estimators=150, learning_rate=0.3, max_depth=3 \n",
      "[CV]  min_samples_split=4, n_estimators=150, learning_rate=0.3, max_depth=3, score=0.752810 -   7.0s\n",
      "[CV] min_samples_split=4, n_estimators=150, learning_rate=0.3, max_depth=3 \n",
      "[CV]  min_samples_split=4, n_estimators=150, learning_rate=0.3, max_depth=3, score=0.747897 -   6.9s\n",
      "[CV] min_samples_split=4, n_estimators=150, learning_rate=0.3, max_depth=3 \n",
      "[CV]  min_samples_split=4, n_estimators=150, learning_rate=0.3, max_depth=3, score=0.760034 -   7.4s\n",
      "[CV] min_samples_split=2, n_estimators=50, learning_rate=0.3, max_depth=4 \n",
      "[CV]  min_samples_split=2, n_estimators=50, learning_rate=0.3, max_depth=4, score=0.754160 -   4.3s\n",
      "[CV] min_samples_split=2, n_estimators=50, learning_rate=0.3, max_depth=4 \n",
      "[CV]  min_samples_split=2, n_estimators=50, learning_rate=0.3, max_depth=4, score=0.747444 -   4.6s\n",
      "[CV] min_samples_split=2, n_estimators=50, learning_rate=0.3, max_depth=4 \n",
      "[CV]  min_samples_split=2, n_estimators=50, learning_rate=0.3, max_depth=4, score=0.759852 -   4.5s\n",
      "[CV] min_samples_split=2, n_estimators=100, learning_rate=0.3, max_depth=4 \n",
      "[CV]  min_samples_split=2, n_estimators=100, learning_rate=0.3, max_depth=4, score=0.748732 -   7.5s\n",
      "[CV] min_samples_split=2, n_estimators=100, learning_rate=0.3, max_depth=4 \n",
      "[CV]  min_samples_split=2, n_estimators=100, learning_rate=0.3, max_depth=4, score=0.743634 -   7.9s\n",
      "[CV] min_samples_split=2, n_estimators=100, learning_rate=0.3, max_depth=4 \n",
      "[CV]  min_samples_split=2, n_estimators=100, learning_rate=0.3, max_depth=4, score=0.754418 -   7.8s\n",
      "[CV] min_samples_split=2, n_estimators=150, learning_rate=0.3, max_depth=4 \n",
      "[CV]  min_samples_split=2, n_estimators=150, learning_rate=0.3, max_depth=4, score=0.744170 -  10.9s\n",
      "[CV] min_samples_split=2, n_estimators=150, learning_rate=0.3, max_depth=4 \n",
      "[CV]  min_samples_split=2, n_estimators=150, learning_rate=0.3, max_depth=4, score=0.745827 -  11.2s\n",
      "[CV] min_samples_split=2, n_estimators=150, learning_rate=0.3, max_depth=4 \n",
      "[CV]  min_samples_split=2, n_estimators=150, learning_rate=0.3, max_depth=4, score=0.752410 -  11.0s\n",
      "[CV] min_samples_split=3, n_estimators=50, learning_rate=0.3, max_depth=4 \n",
      "[CV]  min_samples_split=3, n_estimators=50, learning_rate=0.3, max_depth=4, score=0.757390 -   4.3s\n",
      "[CV] min_samples_split=3, n_estimators=50, learning_rate=0.3, max_depth=4 \n",
      "[CV]  min_samples_split=3, n_estimators=50, learning_rate=0.3, max_depth=4, score=0.745384 -   4.3s\n",
      "[CV] min_samples_split=3, n_estimators=50, learning_rate=0.3, max_depth=4 \n",
      "[CV]  min_samples_split=3, n_estimators=50, learning_rate=0.3, max_depth=4, score=0.760844 -   4.4s\n",
      "[CV] min_samples_split=3, n_estimators=100, learning_rate=0.3, max_depth=4 \n",
      "[CV]  min_samples_split=3, n_estimators=100, learning_rate=0.3, max_depth=4, score=0.753736 -   7.4s\n",
      "[CV] min_samples_split=3, n_estimators=100, learning_rate=0.3, max_depth=4 \n",
      "[CV]  min_samples_split=3, n_estimators=100, learning_rate=0.3, max_depth=4, score=0.743663 -   7.8s\n",
      "[CV] min_samples_split=3, n_estimators=100, learning_rate=0.3, max_depth=4 \n",
      "[CV]  min_samples_split=3, n_estimators=100, learning_rate=0.3, max_depth=4, score=0.759327 -   7.8s\n",
      "[CV] min_samples_split=3, n_estimators=150, learning_rate=0.3, max_depth=4 \n",
      "[CV]  min_samples_split=3, n_estimators=150, learning_rate=0.3, max_depth=4, score=0.747775 -  11.2s\n",
      "[CV] min_samples_split=3, n_estimators=150, learning_rate=0.3, max_depth=4 \n",
      "[CV]  min_samples_split=3, n_estimators=150, learning_rate=0.3, max_depth=4, score=0.745978 -  11.4s\n",
      "[CV] min_samples_split=3, n_estimators=150, learning_rate=0.3, max_depth=4 \n",
      "[CV]  min_samples_split=3, n_estimators=150, learning_rate=0.3, max_depth=4, score=0.753941 -  11.6s\n",
      "[CV] min_samples_split=4, n_estimators=50, learning_rate=0.3, max_depth=4 \n",
      "[CV]  min_samples_split=4, n_estimators=50, learning_rate=0.3, max_depth=4, score=0.757494 -   4.4s\n",
      "[CV] min_samples_split=4, n_estimators=50, learning_rate=0.3, max_depth=4 \n",
      "[CV]  min_samples_split=4, n_estimators=50, learning_rate=0.3, max_depth=4, score=0.742570 -   4.8s\n",
      "[CV] min_samples_split=4, n_estimators=50, learning_rate=0.3, max_depth=4 \n",
      "[CV]  min_samples_split=4, n_estimators=50, learning_rate=0.3, max_depth=4, score=0.759223 -   4.6s\n",
      "[CV] min_samples_split=4, n_estimators=100, learning_rate=0.3, max_depth=4 \n",
      "[CV]  min_samples_split=4, n_estimators=100, learning_rate=0.3, max_depth=4, score=0.753399 -   7.8s\n",
      "[CV] min_samples_split=4, n_estimators=100, learning_rate=0.3, max_depth=4 \n",
      "[CV]  min_samples_split=4, n_estimators=100, learning_rate=0.3, max_depth=4, score=0.741175 -   7.7s\n",
      "[CV] min_samples_split=4, n_estimators=100, learning_rate=0.3, max_depth=4 \n",
      "[CV]  min_samples_split=4, n_estimators=100, learning_rate=0.3, max_depth=4, score=0.760708 -   7.9s\n",
      "[CV] min_samples_split=4, n_estimators=150, learning_rate=0.3, max_depth=4 \n",
      "[CV]  min_samples_split=4, n_estimators=150, learning_rate=0.3, max_depth=4, score=0.743921 -  11.1s\n",
      "[CV] min_samples_split=4, n_estimators=150, learning_rate=0.3, max_depth=4 \n",
      "[CV]  min_samples_split=4, n_estimators=150, learning_rate=0.3, max_depth=4, score=0.741723 -  11.2s\n",
      "[CV] min_samples_split=4, n_estimators=150, learning_rate=0.3, max_depth=4 \n",
      "[CV]  min_samples_split=4, n_estimators=150, learning_rate=0.3, max_depth=4, score=0.757424 -  11.4s\n",
      "[CV] min_samples_split=2, n_estimators=50, learning_rate=0.3, max_depth=5 \n",
      "[CV]  min_samples_split=2, n_estimators=50, learning_rate=0.3, max_depth=5, score=0.753269 -   6.7s\n",
      "[CV] min_samples_split=2, n_estimators=50, learning_rate=0.3, max_depth=5 \n",
      "[CV]  min_samples_split=2, n_estimators=50, learning_rate=0.3, max_depth=5, score=0.740837 -   6.7s\n",
      "[CV] min_samples_split=2, n_estimators=50, learning_rate=0.3, max_depth=5 \n",
      "[CV]  min_samples_split=2, n_estimators=50, learning_rate=0.3, max_depth=5, score=0.757785 -   6.7s\n",
      "[CV] min_samples_split=2, n_estimators=100, learning_rate=0.3, max_depth=5 \n",
      "[CV]  min_samples_split=2, n_estimators=100, learning_rate=0.3, max_depth=5, score=0.748392 -  11.8s"
     ]
    },
    {
     "name": "stderr",
     "output_type": "stream",
     "text": [
      "[Parallel(n_jobs=1)]: Done 199 tasks       | elapsed: 27.9min\n",
      "[Parallel(n_jobs=1)]: Done 220 tasks       | elapsed: 30.7min\n"
     ]
    },
    {
     "name": "stdout",
     "output_type": "stream",
     "text": [
      "\n",
      "[CV] min_samples_split=2, n_estimators=100, learning_rate=0.3, max_depth=5 \n",
      "[CV]  min_samples_split=2, n_estimators=100, learning_rate=0.3, max_depth=5, score=0.739501 -  11.6s\n",
      "[CV] min_samples_split=2, n_estimators=100, learning_rate=0.3, max_depth=5 \n",
      "[CV]  min_samples_split=2, n_estimators=100, learning_rate=0.3, max_depth=5, score=0.743014 -  11.4s\n",
      "[CV] min_samples_split=2, n_estimators=150, learning_rate=0.3, max_depth=5 \n",
      "[CV]  min_samples_split=2, n_estimators=150, learning_rate=0.3, max_depth=5, score=0.742271 -  16.2s\n",
      "[CV] min_samples_split=2, n_estimators=150, learning_rate=0.3, max_depth=5 \n",
      "[CV]  min_samples_split=2, n_estimators=150, learning_rate=0.3, max_depth=5, score=0.738882 -  16.8s\n",
      "[CV] min_samples_split=2, n_estimators=150, learning_rate=0.3, max_depth=5 \n",
      "[CV]  min_samples_split=2, n_estimators=150, learning_rate=0.3, max_depth=5, score=0.740546 -  16.0s\n",
      "[CV] min_samples_split=3, n_estimators=50, learning_rate=0.3, max_depth=5 \n",
      "[CV]  min_samples_split=3, n_estimators=50, learning_rate=0.3, max_depth=5, score=0.750698 -   6.3s\n",
      "[CV] min_samples_split=3, n_estimators=50, learning_rate=0.3, max_depth=5 \n",
      "[CV]  min_samples_split=3, n_estimators=50, learning_rate=0.3, max_depth=5, score=0.746135 -   6.4s\n",
      "[CV] min_samples_split=3, n_estimators=50, learning_rate=0.3, max_depth=5 \n",
      "[CV]  min_samples_split=3, n_estimators=50, learning_rate=0.3, max_depth=5, score=0.755729 -   6.4s\n",
      "[CV] min_samples_split=3, n_estimators=100, learning_rate=0.3, max_depth=5 \n",
      "[CV]  min_samples_split=3, n_estimators=100, learning_rate=0.3, max_depth=5, score=0.745930 -  11.9s\n",
      "[CV] min_samples_split=3, n_estimators=100, learning_rate=0.3, max_depth=5 \n",
      "[CV]  min_samples_split=3, n_estimators=100, learning_rate=0.3, max_depth=5, score=0.741664 -  11.1s\n",
      "[CV] min_samples_split=3, n_estimators=100, learning_rate=0.3, max_depth=5 \n",
      "[CV]  min_samples_split=3, n_estimators=100, learning_rate=0.3, max_depth=5, score=0.748428 -  11.5s\n",
      "[CV] min_samples_split=3, n_estimators=150, learning_rate=0.3, max_depth=5 \n",
      "[CV]  min_samples_split=3, n_estimators=150, learning_rate=0.3, max_depth=5, score=0.741890 -  17.9s\n",
      "[CV] min_samples_split=3, n_estimators=150, learning_rate=0.3, max_depth=5 \n",
      "[CV]  min_samples_split=3, n_estimators=150, learning_rate=0.3, max_depth=5, score=0.738465 -  17.0s\n",
      "[CV] min_samples_split=3, n_estimators=150, learning_rate=0.3, max_depth=5 \n",
      "[CV]  min_samples_split=3, n_estimators=150, learning_rate=0.3, max_depth=5, score=0.743586 -  16.0s\n",
      "[CV] min_samples_split=4, n_estimators=50, learning_rate=0.3, max_depth=5 \n",
      "[CV]  min_samples_split=4, n_estimators=50, learning_rate=0.3, max_depth=5, score=0.750398 -   6.2s\n",
      "[CV] min_samples_split=4, n_estimators=50, learning_rate=0.3, max_depth=5 \n",
      "[CV]  min_samples_split=4, n_estimators=50, learning_rate=0.3, max_depth=5, score=0.742985 -   6.0s\n",
      "[CV] min_samples_split=4, n_estimators=50, learning_rate=0.3, max_depth=5 \n",
      "[CV]  min_samples_split=4, n_estimators=50, learning_rate=0.3, max_depth=5, score=0.756319 -   6.1s\n",
      "[CV] min_samples_split=4, n_estimators=100, learning_rate=0.3, max_depth=5 \n",
      "[CV]  min_samples_split=4, n_estimators=100, learning_rate=0.3, max_depth=5, score=0.743298 -  10.9s\n",
      "[CV] min_samples_split=4, n_estimators=100, learning_rate=0.3, max_depth=5 \n",
      "[CV]  min_samples_split=4, n_estimators=100, learning_rate=0.3, max_depth=5, score=0.742398 -  10.7s\n",
      "[CV] min_samples_split=4, n_estimators=100, learning_rate=0.3, max_depth=5 \n",
      "[CV]  min_samples_split=4, n_estimators=100, learning_rate=0.3, max_depth=5, score=0.753051 -  10.9s\n",
      "[CV] min_samples_split=4, n_estimators=150, learning_rate=0.3, max_depth=5 \n",
      "[CV]  min_samples_split=4, n_estimators=150, learning_rate=0.3, max_depth=5, score=0.738867 -  15.8s\n",
      "[CV] min_samples_split=4, n_estimators=150, learning_rate=0.3, max_depth=5 \n",
      "[CV]  min_samples_split=4, n_estimators=150, learning_rate=0.3, max_depth=5, score=0.739538 -  16.1s\n",
      "[CV] min_samples_split=4, n_estimators=150, learning_rate=0.3, max_depth=5 \n",
      "[CV]  min_samples_split=4, n_estimators=150, learning_rate=0.3, max_depth=5, score=0.746603 -  16.9s"
     ]
    },
    {
     "name": "stderr",
     "output_type": "stream",
     "text": [
      "[Parallel(n_jobs=1)]: Done 241 tasks       | elapsed: 34.7min\n",
      "[Parallel(n_jobs=1)]: Done 243 out of 243 | elapsed: 35.3min finished\n"
     ]
    },
    {
     "name": "stdout",
     "output_type": "stream",
     "text": [
      "\n",
      "Unoptimized model\n",
      "------\n",
      "Accuracy score on testing data: 0.8630\n",
      "F-score on testing data: 0.7395\n",
      "\n",
      "Optimized Model\n",
      "------\n",
      "Final accuracy score on the testing data: 0.8687\n",
      "Final F-score on the testing data: 0.7476\n"
     ]
    }
   ],
   "source": [
    "# TODO: Import 'GridSearchCV', 'make_scorer', and any other necessary libraries\n",
    "from sklearn.grid_search import GridSearchCV\n",
    "from sklearn.metrics import make_scorer\n",
    "\n",
    "# TODO: Initialize the classifier\n",
    "clf = GradientBoostingClassifier(random_state=29)\n",
    "\n",
    "# TODO: Create the parameters list you wish to tune, using a dictionary if needed.\n",
    "# HINT: parameters = {'parameter_1': [value1, value2], 'parameter_2': [value1, value2]}\n",
    "parameters = {'learning_rate': [0.1, 0.2, 0.3], \n",
    "              'n_estimators': [50, 100, 150], \n",
    "              'max_depth': [3, 4, 5],\n",
    "              'min_samples_split': [2, 3, 4]}\n",
    "\n",
    "# TODO: Make an fbeta_score scoring object using make_scorer()\n",
    "scorer = make_scorer(fbeta_score, beta=0.5)\n",
    "\n",
    "# TODO: Perform grid search on the classifier using 'scorer' as the scoring method using GridSearchCV()\n",
    "grid_obj = GridSearchCV(clf, parameters, scoring=scorer, verbose=10)\n",
    "\n",
    "# TODO: Fit the grid search object to the training data and find the optimal parameters using fit()\n",
    "grid_fit = grid_obj.fit(X_train, y_train)\n",
    "\n",
    "# Get the estimator\n",
    "best_clf = grid_fit.best_estimator_\n",
    "\n",
    "# Make predictions using the unoptimized and model\n",
    "predictions = (clf.fit(X_train, y_train)).predict(X_test)\n",
    "best_predictions = best_clf.predict(X_test)\n",
    "\n",
    "# Report the before-and-afterscores\n",
    "print \"Unoptimized model\\n------\"\n",
    "print \"Accuracy score on testing data: {:.4f}\".format(accuracy_score(y_test, predictions))\n",
    "print \"F-score on testing data: {:.4f}\".format(fbeta_score(y_test, predictions, beta = 0.5))\n",
    "print \"\\nOptimized Model\\n------\"\n",
    "print \"Final accuracy score on the testing data: {:.4f}\".format(accuracy_score(y_test, best_predictions))\n",
    "print \"Final F-score on the testing data: {:.4f}\".format(fbeta_score(y_test, best_predictions, beta = 0.5))"
   ]
  },
  {
   "cell_type": "markdown",
   "metadata": {},
   "source": [
    "### Question 5 - Final Model Evaluation\n",
    "\n",
    "* What is your optimized model's accuracy and F-score on the testing data? \n",
    "* Are these scores better or worse than the unoptimized model? \n",
    "* How do the results from your optimized model compare to the naive predictor benchmarks you found earlier in **Question 1**?  \n",
    "\n",
    "**Note:** Fill in the table below with your results, and then provide discussion in the **Answer** box."
   ]
  },
  {
   "cell_type": "markdown",
   "metadata": {},
   "source": [
    "#### Results:\n",
    "\n",
    "|     Metric     | Benchmark Predictor | Unoptimized Model | Optimized Model |\n",
    "| :------------: | :-----------------: | :---------------: | :-------------: | \n",
    "| Accuracy Score |    0.2478           |      0.8630       |   0.868         |\n",
    "| F-score        |    0.2917           |      0.7395       |   0.7476        |\n"
   ]
  },
  {
   "cell_type": "markdown",
   "metadata": {},
   "source": [
    "**Answer: **\n",
    "The optimized model is only slightly better (in accuracy and F1 score) than the unoptimized model. Looks like the default GB parameters are good for our task. However, both models show a huge improvement (around 50% in F1 score) over the naive predictor. "
   ]
  },
  {
   "cell_type": "markdown",
   "metadata": {},
   "source": [
    "----\n",
    "## Feature Importance\n",
    "\n",
    "An important task when performing supervised learning on a dataset like the census data we study here is determining which features provide the most predictive power. By focusing on the relationship between only a few crucial features and the target label we simplify our understanding of the phenomenon, which is most always a useful thing to do. In the case of this project, that means we wish to identify a small number of features that most strongly predict whether an individual makes at most or more than \\$50,000.\n",
    "\n",
    "Choose a scikit-learn classifier (e.g., adaboost, random forests) that has a `feature_importance_` attribute, which is a function that ranks the importance of features according to the chosen classifier.  In the next python cell fit this classifier to training set and use this attribute to determine the top 5 most important features for the census dataset."
   ]
  },
  {
   "cell_type": "markdown",
   "metadata": {},
   "source": [
    "### Question 6 - Feature Relevance Observation\n",
    "When **Exploring the Data**, it was shown there are thirteen available features for each individual on record in the census data. Of these thirteen records, which five features do you believe to be most important for prediction, and in what order would you rank them and why?"
   ]
  },
  {
   "cell_type": "markdown",
   "metadata": {},
   "source": [
    "**Answer:**\n",
    "\n",
    "I would list the following features as a candidates:\n",
    "\n",
    "**Occupation** (1) can be important as different professions have different salary statistics. **Capital-gain** (2) and **Capital-loss** (3) both can signify that a person is wealthy enough to have an investment portfolio. **Education** (4) can correlate with social status and high-paying jobs. **Age** (5) can also correlate with income because top positions usually require a lot of experience.\n"
   ]
  },
  {
   "cell_type": "markdown",
   "metadata": {},
   "source": [
    "### Implementation - Extracting Feature Importance\n",
    "Choose a `scikit-learn` supervised learning algorithm that has a `feature_importance_` attribute availble for it. This attribute is a function that ranks the importance of each feature when making predictions based on the chosen algorithm.\n",
    "\n",
    "In the code cell below, you will need to implement the following:\n",
    " - Import a supervised learning model from sklearn if it is different from the three used earlier.\n",
    " - Train the supervised model on the entire training set.\n",
    " - Extract the feature importances using `'.feature_importances_'`."
   ]
  },
  {
   "cell_type": "code",
   "execution_count": 28,
   "metadata": {
    "collapsed": false
   },
   "outputs": [
    {
     "data": {
      "image/png": "[encoded data removed]",
      "text/plain": [
       "<matplotlib.figure.Figure at 0x12156c310>"
      ]
     },
     "metadata": {},
     "output_type": "display_data"
    }
   ],
   "source": [
    "# TODO: Import a supervised learning model that has 'feature_importances_'\n",
    "# GradientBoostingClassifier is already imported\n",
    "\n",
    "# TODO: Train the supervised model on the training set using .fit(X_train, y_train)\n",
    "# we will use a model that was fitted during previous step\n",
    "model = best_clf\n",
    "\n",
    "# TODO: Extract the feature importances using .feature_importances_ \n",
    "importances = model.feature_importances_\n",
    "\n",
    "# Plot\n",
    "vs.feature_plot(importances, X_train, y_train)"
   ]
  },
  {
   "cell_type": "markdown",
   "metadata": {},
   "source": [
    "### Question 7 - Extracting Feature Importance\n",
    "\n",
    "Observe the visualization created above which displays the five most relevant features for predicting if an individual makes at most or above \\$50,000.  \n",
    "* How do these five features compare to the five features you discussed in **Question 6**?\n",
    "* If you were close to the same answer, how does this visualization confirm your thoughts? \n",
    "* If you were not close, why do you think these features are more relevant?"
   ]
  },
  {
   "cell_type": "markdown",
   "metadata": {},
   "source": [
    "**Answer:**\n",
    "\n",
    "I correctly proposed 3 features out of 5: capital loss, capital gain and age. The visualization above shows that these 3 features are indeed significant. My guess regarding education was quite close, however, it turned out the number of educations is more important. Also, there is one feature that I haven't guess - marital status, which in retrospective seems quite logical to have as it influences the overall wealth. "
   ]
  },
  {
   "cell_type": "markdown",
   "metadata": {},
   "source": [
    "### Feature Selection\n",
    "How does a model perform if we only use a subset of all the available features in the data? With less features required to train, the expectation is that training and prediction time is much lower — at the cost of performance metrics. From the visualization above, we see that the top five most important features contribute more than half of the importance of **all** features present in the data. This hints that we can attempt to *reduce the feature space* and simplify the information required for the model to learn. The code cell below will use the same optimized model you found earlier, and train it on the same training set *with only the top five important features*. "
   ]
  },
  {
   "cell_type": "code",
   "execution_count": 29,
   "metadata": {
    "collapsed": false
   },
   "outputs": [
    {
     "name": "stdout",
     "output_type": "stream",
     "text": [
      "Final Model trained on full data\n",
      "------\n",
      "Accuracy on testing data: 0.8687\n",
      "F-score on testing data: 0.7476\n",
      "\n",
      "Final Model trained on reduced data\n",
      "------\n",
      "Accuracy on testing data: 0.8586\n",
      "F-score on testing data: 0.7249\n"
     ]
    }
   ],
   "source": [
    "# Import functionality for cloning a model\n",
    "from sklearn.base import clone\n",
    "\n",
    "# Reduce the feature space\n",
    "X_train_reduced = X_train[X_train.columns.values[(np.argsort(importances)[::-1])[:5]]]\n",
    "X_test_reduced = X_test[X_test.columns.values[(np.argsort(importances)[::-1])[:5]]]\n",
    "\n",
    "# Train on the \"best\" model found from grid search earlier\n",
    "clf = (clone(best_clf)).fit(X_train_reduced, y_train)\n",
    "\n",
    "# Make new predictions\n",
    "reduced_predictions = clf.predict(X_test_reduced)\n",
    "\n",
    "# Report scores from the final model using both versions of data\n",
    "print \"Final Model trained on full data\\n------\"\n",
    "print \"Accuracy on testing data: {:.4f}\".format(accuracy_score(y_test, best_predictions))\n",
    "print \"F-score on testing data: {:.4f}\".format(fbeta_score(y_test, best_predictions, beta = 0.5))\n",
    "print \"\\nFinal Model trained on reduced data\\n------\"\n",
    "print \"Accuracy on testing data: {:.4f}\".format(accuracy_score(y_test, reduced_predictions))\n",
    "print \"F-score on testing data: {:.4f}\".format(fbeta_score(y_test, reduced_predictions, beta = 0.5))"
   ]
  },
  {
   "cell_type": "markdown",
   "metadata": {},
   "source": [
    "### Question 8 - Effects of Feature Selection\n",
    "\n",
    "* How does the final model's F-score and accuracy score on the reduced data using only five features compare to those same scores when all features are used?\n",
    "* If training time was a factor, would you consider using the reduced data as your training set?"
   ]
  },
  {
   "cell_type": "markdown",
   "metadata": {},
   "source": [
    "**Answer:**\n",
    "\n",
    "The model trained on full data does better than the model trained on reduced data. However, the difference is not critical: 0.747 vs 0.724 for the F1 score, 0.868 vs 0.858 for the accuracy. I might consider using the reduced data if training time was a factor and there was a large dataset but it is not our case. I think that the next best step is to check what score we get when we are using 7-9 features. It would be a good deal if we could reduce the feature space to 7-9 features and get the same score as on full data. \n"
   ]
  },
  {
   "cell_type": "markdown",
   "metadata": {},
   "source": [
    "> **Note**: Once you have completed all of the code implementations and successfully answered each question above, you may finalize your work by exporting the iPython Notebook as an HTML document. You can do this by using the menu above and navigating to  \n",
    "**File -> Download as -> HTML (.html)**. Include the finished document along with this notebook as your submission."
   ]
  }
 ],
 "metadata": {
  "kernelspec": {
   "display_name": "Python 2",
   "language": "python",
   "name": "python2"
  },
  "language_info": {
   "codemirror_mode": {
    "name": "ipython",
    "version": 2
   },
   "file_extension": ".py",
   "mimetype": "text/x-python",
   "name": "python",
   "nbconvert_exporter": "python",
   "pygments_lexer": "ipython2",
   "version": "2.7.13"
  }
 },
 "nbformat": 4,
 "nbformat_minor": 1
}
